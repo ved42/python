{
 "cells": [
  {
   "cell_type": "markdown",
   "id": "d494e45c",
   "metadata": {},
   "source": [
    "### Q1. Create one variable containing following type of data:\n",
    "\n",
    "(i) string\n",
    "\n",
    "(ii) list\n",
    "\n",
    "(iii) float\n",
    "\n",
    "(iv) tuple"
   ]
  },
  {
   "cell_type": "code",
   "execution_count": 1,
   "id": "005cbd42",
   "metadata": {},
   "outputs": [],
   "source": [
    "# 1.string\n",
    "str1=\"data science course\""
   ]
  },
  {
   "cell_type": "code",
   "execution_count": 2,
   "id": "667082b4",
   "metadata": {},
   "outputs": [],
   "source": [
    "# list\n",
    "list1=[1,2,3,(45,67),True]"
   ]
  },
  {
   "cell_type": "code",
   "execution_count": 3,
   "id": "b2621cf3",
   "metadata": {},
   "outputs": [],
   "source": [
    "# float\n",
    "float1=23.45"
   ]
  },
  {
   "cell_type": "code",
   "execution_count": 4,
   "id": "cd9167a4",
   "metadata": {},
   "outputs": [],
   "source": [
    "# tuple\n",
    "tuple1=(1,356.70)"
   ]
  },
  {
   "cell_type": "markdown",
   "id": "56ae846f",
   "metadata": {},
   "source": [
    "### Q2. Given are some following variables containing data:\n",
    "\n",
    "(i) var1 = ‘ ‘\n",
    "\n",
    "(ii) var2 = ‘[ DS , ML , Python]’\n",
    "\n",
    "(iii) var3 = [ ‘DS’ , ’ML’ , ‘Python’ ]\n",
    "\n",
    "(iv) var4 = 1.\n",
    "\n",
    "What will be the data type of the above given variable."
   ]
  },
  {
   "cell_type": "code",
   "execution_count": 5,
   "id": "57eec16a",
   "metadata": {},
   "outputs": [
    {
     "name": "stdout",
     "output_type": "stream",
     "text": [
      "<class 'str'>\n"
     ]
    }
   ],
   "source": [
    "var1 = ''\n",
    "print(type(var1))"
   ]
  },
  {
   "cell_type": "code",
   "execution_count": 6,
   "id": "d9764aba",
   "metadata": {},
   "outputs": [
    {
     "name": "stdout",
     "output_type": "stream",
     "text": [
      "<class 'str'>\n"
     ]
    }
   ],
   "source": [
    "var2 = '[ DS , ML , Python]'\n",
    "print(type(var2))\n",
    "    "
   ]
  },
  {
   "cell_type": "code",
   "execution_count": 7,
   "id": "bd0aba63",
   "metadata": {},
   "outputs": [
    {
     "name": "stdout",
     "output_type": "stream",
     "text": [
      "<class 'list'>\n"
     ]
    }
   ],
   "source": [
    "var3 = [ 'DS' , 'ML' , 'Python' ]\n",
    "print(type(var3))"
   ]
  },
  {
   "cell_type": "code",
   "execution_count": 8,
   "id": "47d1a19f",
   "metadata": {},
   "outputs": [
    {
     "name": "stdout",
     "output_type": "stream",
     "text": [
      "<class 'float'>\n"
     ]
    }
   ],
   "source": [
    "var4 = 1.\n",
    "print(type(var4))"
   ]
  },
  {
   "cell_type": "markdown",
   "id": "cd1059a7",
   "metadata": {},
   "source": [
    "### Q3. Explain the use of the following operators using an example:\n",
    "\n",
    "(i) /\n",
    "\n",
    "(ii) %\n",
    "\n",
    "(iii) //\n",
    "\n",
    "(iv) **"
   ]
  },
  {
   "cell_type": "markdown",
   "id": "c5f2ad55",
   "metadata": {},
   "source": [
    "## / - It perform division and gives answer in float\n",
    "## % - It returns remainder of the given value\n",
    "## // - It returns the quotient of the given value and it is in the form of int datatype\n",
    "## ** - It indicates the power or exponational function"
   ]
  },
  {
   "cell_type": "markdown",
   "id": "34eb670f",
   "metadata": {},
   "source": [
    "## for example\n"
   ]
  },
  {
   "cell_type": "code",
   "execution_count": 9,
   "id": "b2f97435",
   "metadata": {},
   "outputs": [
    {
     "data": {
      "text/plain": [
       "5.5"
      ]
     },
     "execution_count": 9,
     "metadata": {},
     "output_type": "execute_result"
    }
   ],
   "source": [
    "22/4"
   ]
  },
  {
   "cell_type": "code",
   "execution_count": 10,
   "id": "b8807dc2",
   "metadata": {},
   "outputs": [
    {
     "data": {
      "text/plain": [
       "1"
      ]
     },
     "execution_count": 10,
     "metadata": {},
     "output_type": "execute_result"
    }
   ],
   "source": [
    "33%4"
   ]
  },
  {
   "cell_type": "code",
   "execution_count": 11,
   "id": "0dcf6b5a",
   "metadata": {},
   "outputs": [
    {
     "data": {
      "text/plain": [
       "11"
      ]
     },
     "execution_count": 11,
     "metadata": {},
     "output_type": "execute_result"
    }
   ],
   "source": [
    "44//4"
   ]
  },
  {
   "cell_type": "code",
   "execution_count": 12,
   "id": "fef0ae0c",
   "metadata": {},
   "outputs": [
    {
     "data": {
      "text/plain": [
       "8"
      ]
     },
     "execution_count": 12,
     "metadata": {},
     "output_type": "execute_result"
    }
   ],
   "source": [
    "2**3"
   ]
  },
  {
   "cell_type": "markdown",
   "id": "64d48196",
   "metadata": {},
   "source": [
    "### Q4. Create a list of length 10 of your choice containing multiple types of data. Using for loop print the element and its data type."
   ]
  },
  {
   "cell_type": "code",
   "execution_count": 13,
   "id": "84bba31b",
   "metadata": {},
   "outputs": [],
   "source": [
    "l1=[1,2,34.5,True,[1,5,7],(34,67,89),23+4j,False,'data','science']"
   ]
  },
  {
   "cell_type": "code",
   "execution_count": 14,
   "id": "7a79e238",
   "metadata": {},
   "outputs": [
    {
     "name": "stdout",
     "output_type": "stream",
     "text": [
      "1 : <class 'int'>\n",
      "2 : <class 'int'>\n",
      "34.5 : <class 'float'>\n",
      "True : <class 'bool'>\n",
      "[1, 5, 7] : <class 'list'>\n",
      "(34, 67, 89) : <class 'tuple'>\n",
      "(23+4j) : <class 'complex'>\n",
      "False : <class 'bool'>\n",
      "data : <class 'str'>\n",
      "science : <class 'str'>\n"
     ]
    }
   ],
   "source": [
    "for i in l1:\n",
    "    print(i,\":\",type(i))"
   ]
  },
  {
   "cell_type": "markdown",
   "id": "b0539ad2",
   "metadata": {},
   "source": [
    "### Q5. Using a while loop, verify if the number A is purely divisible by number B and if so then how many times it can be divisible."
   ]
  },
  {
   "cell_type": "code",
   "execution_count": 18,
   "id": "21bd9c94",
   "metadata": {},
   "outputs": [
    {
     "name": "stdout",
     "output_type": "stream",
     "text": [
      "divisble\n",
      "2\n"
     ]
    }
   ],
   "source": [
    "a=52\n",
    "b=2\n",
    "count=0\n",
    "if(a%b==0):\n",
    "    print('divisble')\n",
    "    \n",
    "    while(a%b==0):\n",
    "        count+=1\n",
    "        a=a//b\n",
    "    print(count)\n",
    "else:\n",
    "    print('not completely divisible')\n",
    "\n",
    "\n",
    "\n",
    "   "
   ]
  },
  {
   "cell_type": "markdown",
   "id": "546091cd",
   "metadata": {},
   "source": [
    "### Q6. Create a list containing 25 int type data. Using for loop and if-else condition print if the element is divisible by 3 or not."
   ]
  },
  {
   "cell_type": "code",
   "execution_count": 20,
   "id": "445aae6e",
   "metadata": {},
   "outputs": [],
   "source": [
    "l1=[3,4,5,78,12,34,56,78,90,12,54,11,33,54,28,35,22,9032,101,108,51,45,87,27,9]\n"
   ]
  },
  {
   "cell_type": "code",
   "execution_count": 21,
   "id": "3a93ef48",
   "metadata": {},
   "outputs": [
    {
     "name": "stdout",
     "output_type": "stream",
     "text": [
      "3 divisible\n",
      "4 not divisible\n",
      "5 not divisible\n",
      "78 divisible\n",
      "12 divisible\n",
      "34 not divisible\n",
      "56 not divisible\n",
      "78 divisible\n",
      "90 divisible\n",
      "12 divisible\n",
      "54 divisible\n",
      "11 not divisible\n",
      "33 divisible\n",
      "54 divisible\n",
      "28 not divisible\n",
      "35 not divisible\n",
      "22 not divisible\n",
      "9032 not divisible\n",
      "101 not divisible\n",
      "108 divisible\n",
      "51 divisible\n",
      "45 divisible\n",
      "87 divisible\n",
      "27 divisible\n",
      "9 divisible\n"
     ]
    }
   ],
   "source": [
    "for i in l1:\n",
    "    if(i%3==0):\n",
    "        print(i,'divisible')\n",
    "    else:\n",
    "        print(i,'not divisible')\n",
    "        "
   ]
  },
  {
   "cell_type": "markdown",
   "id": "bd8ed759",
   "metadata": {},
   "source": [
    "### Q7. What do you understand about mutable and immutable data types? Give examples for both showin this property."
   ]
  },
  {
   "cell_type": "markdown",
   "id": "8fe0dfd0",
   "metadata": {},
   "source": [
    "#### mutable : we can modify the number on a particular index permantly.eg.list  etc\n",
    "\n",
    "#### immutable:It can't modify number e.g. string,tuple etc"
   ]
  },
  {
   "cell_type": "code",
   "execution_count": 22,
   "id": "7b9b34e7",
   "metadata": {},
   "outputs": [],
   "source": [
    "l1=[23,4567,50,11]\n",
    "l1[1]=18"
   ]
  },
  {
   "cell_type": "code",
   "execution_count": 23,
   "id": "c90c6e47",
   "metadata": {},
   "outputs": [
    {
     "name": "stdout",
     "output_type": "stream",
     "text": [
      "[23, 18, 50, 11]\n"
     ]
    }
   ],
   "source": [
    "print(l1)"
   ]
  },
  {
   "cell_type": "code",
   "execution_count": 24,
   "id": "3978ce7d",
   "metadata": {},
   "outputs": [
    {
     "ename": "TypeError",
     "evalue": "'str' object does not support item assignment",
     "output_type": "error",
     "traceback": [
      "\u001b[1;31m---------------------------------------------------------------------------\u001b[0m",
      "\u001b[1;31mTypeError\u001b[0m                                 Traceback (most recent call last)",
      "Cell \u001b[1;32mIn[24], line 2\u001b[0m\n\u001b[0;32m      1\u001b[0m st1\u001b[38;5;241m=\u001b[39m\u001b[38;5;124m'\u001b[39m\u001b[38;5;124mdatascience\u001b[39m\u001b[38;5;124m'\u001b[39m\n\u001b[1;32m----> 2\u001b[0m st1[\u001b[38;5;241m4\u001b[39m]\u001b[38;5;241m=\u001b[39m\u001b[38;5;124m'\u001b[39m\u001b[38;5;124mv\u001b[39m\u001b[38;5;124m'\u001b[39m\n",
      "\u001b[1;31mTypeError\u001b[0m: 'str' object does not support item assignment"
     ]
    }
   ],
   "source": [
    "st1='datascience'\n",
    "st1[4]='v'"
   ]
  },
  {
   "cell_type": "code",
   "execution_count": null,
   "id": "185efca4",
   "metadata": {},
   "outputs": [],
   "source": []
  }
 ],
 "metadata": {
  "kernelspec": {
   "display_name": "Python 3 (ipykernel)",
   "language": "python",
   "name": "python3"
  },
  "language_info": {
   "codemirror_mode": {
    "name": "ipython",
    "version": 3
   },
   "file_extension": ".py",
   "mimetype": "text/x-python",
   "name": "python",
   "nbconvert_exporter": "python",
   "pygments_lexer": "ipython3",
   "version": "3.10.9"
  }
 },
 "nbformat": 4,
 "nbformat_minor": 5
}
