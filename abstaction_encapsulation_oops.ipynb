{
 "cells": [
  {
   "cell_type": "markdown",
   "id": "a05deab5",
   "metadata": {},
   "source": [
    "### Q1. What is Abstraction in OOps? Explain with an example.\n",
    "### Ans-\n",
    "### Abstraction lets us create models or representations of real-world objects or systems in our programs. It enables us to define the necessary behaviors and properties of an object without getting into the specific implementation details. This way, we can work with higher-level concepts and interact with objects based on what they do, rather than how they do it.\n",
    "### for eg.,"
   ]
  },
  {
   "cell_type": "code",
   "execution_count": 1,
   "id": "7ed32dab",
   "metadata": {},
   "outputs": [],
   "source": [
    "import abc\n",
    "\n",
    "class university:\n",
    "    \n",
    "    @abc.abstractmethod\n",
    "    def student_section(self):\n",
    "        pass\n",
    "    \n",
    "    @abc.abstractmethod\n",
    "    def teacher_section(self):\n",
    "        pass\n",
    "    \n",
    "    @abc.abstractmethod\n",
    "    def parent_section(self):\n",
    "        pass"
   ]
  },
  {
   "cell_type": "code",
   "execution_count": 2,
   "id": "f0af37fb",
   "metadata": {},
   "outputs": [],
   "source": [
    "class college(university):\n",
    "    def student_section(self):\n",
    "        print(\"this method takes info of students that are in clg\")\n",
    "        \n",
    "    def parent_section(self):\n",
    "        print(\"this methods takes information of students parents that are in clg\")\n",
    "        "
   ]
  },
  {
   "cell_type": "code",
   "execution_count": 3,
   "id": "f57029aa",
   "metadata": {},
   "outputs": [],
   "source": [
    "class school(university):\n",
    "    def student_section(self):\n",
    "        print(\"this method takes info of students that are in school\")\n",
    "        \n",
    "    def teacher_section(self):\n",
    "        print(\"this methods takes information of teachers that are in school\")\n",
    "        "
   ]
  },
  {
   "cell_type": "code",
   "execution_count": 4,
   "id": "90827b4e",
   "metadata": {},
   "outputs": [],
   "source": [
    "clg=college()\n",
    "skl=school()"
   ]
  },
  {
   "cell_type": "code",
   "execution_count": 5,
   "id": "9ebab266",
   "metadata": {},
   "outputs": [
    {
     "name": "stdout",
     "output_type": "stream",
     "text": [
      "this method takes info of students that are in clg\n"
     ]
    }
   ],
   "source": [
    "clg.student_section()"
   ]
  },
  {
   "cell_type": "code",
   "execution_count": 6,
   "id": "d466660a",
   "metadata": {},
   "outputs": [
    {
     "name": "stdout",
     "output_type": "stream",
     "text": [
      "this methods takes information of students parents that are in clg\n"
     ]
    }
   ],
   "source": [
    "clg.parent_section()"
   ]
  },
  {
   "cell_type": "code",
   "execution_count": 7,
   "id": "ab989978",
   "metadata": {},
   "outputs": [],
   "source": [
    "clg.teacher_section()"
   ]
  },
  {
   "cell_type": "markdown",
   "id": "5111ade2",
   "metadata": {},
   "source": [
    "### Q2. Differentiate between Abstraction and Encapsulation. Explain with an example\n",
    "### Ans-\n",
    "### Abstraction\n",
    "\n",
    "### Abstraction focuses on hiding unnecessary details and presenting only the essential features or behaviors of an object or a system.It allows us to work with higher-level concepts and interact with objects based on what they do, rather than how they do it.Abstraction is achieved through abstract classes and interfaces in OOP.\n",
    "### Encapsulation:\n",
    "\n",
    "### Encapsulation focuses on bundling the data (attributes) and methods (behaviors) together within a class, hiding the internal details of the object from the outside world. It provides data protection and access control by making the internal state of an object accessible only through well-defined interfaces (public methods). Encapsulation is achieved through access modifiers (such as public, private, and protected) in OOP"
   ]
  },
  {
   "cell_type": "code",
   "execution_count": 8,
   "id": "bea74d2d",
   "metadata": {
    "scrolled": true
   },
   "outputs": [],
   "source": [
    "class bank_account : \n",
    "    def __init__(self , balance) : \n",
    "        self.__balanace = balance \n",
    "        \n",
    "    def deposit(self , amount) : \n",
    "        self.__balanace = self.__balanace + amount\n",
    "        \n",
    "    def withdaw(self ,amount) : \n",
    "        if self.__balanace >= amount :\n",
    "            self.__balanace = self.__balanace - amount\n",
    "            return True\n",
    "        else : \n",
    "            return False\n",
    "    \n",
    "    def get_banalnce(self):\n",
    "        return self.__balanace"
   ]
  },
  {
   "cell_type": "code",
   "execution_count": 9,
   "id": "c67ca268",
   "metadata": {},
   "outputs": [],
   "source": [
    "obj=bank_account(1000)"
   ]
  },
  {
   "cell_type": "code",
   "execution_count": 10,
   "id": "8ec9bc40",
   "metadata": {},
   "outputs": [],
   "source": [
    "obj.deposit(5000)"
   ]
  },
  {
   "cell_type": "code",
   "execution_count": 11,
   "id": "7611c899",
   "metadata": {},
   "outputs": [
    {
     "data": {
      "text/plain": [
       "6000"
      ]
     },
     "execution_count": 11,
     "metadata": {},
     "output_type": "execute_result"
    }
   ],
   "source": [
    "obj.get_banalnce()"
   ]
  },
  {
   "cell_type": "code",
   "execution_count": 12,
   "id": "d0271c33",
   "metadata": {},
   "outputs": [],
   "source": [
    "# here the balance is protected i.e we cant acces that variable.but from outside the function we can do..\n",
    "# above example elaborate all the concept about encapsulation\n"
   ]
  },
  {
   "cell_type": "markdown",
   "id": "ee10c71c",
   "metadata": {},
   "source": [
    "### Q3. What is abc module in python? Why is it used?"
   ]
  },
  {
   "cell_type": "markdown",
   "id": "7f15c62a",
   "metadata": {},
   "source": [
    "### Ans-\n",
    "### The abc module in Python stands for Abstract Base Classes. It is a module that provides mechanisms for defining abstract base classes in Python. Abstract base classes (ABCs) are classes that are designed to be subclassed, but not instantiated directly. They provide a way to define a common interface or a contract for a group of subclasses. The abc module provides the ABC class as the base class for creating abstract base classes. It also provides the abstractmethod decorator, which is used to define abstract methods within the abstract base class. An abstract method is a method that is declared but does not provide an implementation in the abstract base class. The subclasses of the abstract base class must implement these abstract methods.\n",
    "### Here are some key reasons why the abc module is used:\n",
    "### Defining common interfaces: Abstract base classes allow you to define a common interface or contract that a group of subclasses should adhere to. By defining abstract methods, you can ensure that the subclasses provide the necessary implementations.\n",
    "### Polymorphism: Abstract base classes enable polymorphism, which means you can use instances of different subclasses interchangeably through the common interface defined by the abstract base class. This promotes code reusability and flexibil"
   ]
  },
  {
   "cell_type": "markdown",
   "id": "c74c037e",
   "metadata": {},
   "source": [
    "### Q4. How can we achieve data abstraction?\n",
    "### Ans-\n",
    "### We can acheive data abstaction as follows:\n",
    "### 1. Define a class: A class is a blueprint or a template that defines the structure and behavior of objects. It encapsulates data (attributes) and operations (methods) that manipulate that data.\n",
    "\n",
    "### 2. Identify the essential data: Determine the essential data that needs to be encapsulated within the class. These data attributes should represent the state or characteristics of objects of that class.\n",
    "\n",
    "### 3. Encapsulate data: Encapsulation is the process of bundling data and methods together within a class. The data attributes are typically declared as private or protected, meaning they cannot be directly accessed from outside the class. This hides the internal representation of the data and prevents direct manipulation, enforcing controlled access through methods.\n",
    "\n",
    "### 4. Define methods: Methods are functions defined within the class that operate on the data attributes. They provide the interface through which external code interacts with the class. Methods can be used to read or modify the data attributes, perform computations, and provide other relevant behaviors.\n",
    "\n",
    "### 5. Access data through methods: Instead of directly accessing the data attributes, external code interacts with the class by calling the methods provided by the class. These methods can provide controlled access to the data, ensuring proper validation, data consistency, and hiding the implementation details.\n",
    "\n",
    "\n"
   ]
  },
  {
   "cell_type": "markdown",
   "id": "11a4ec3e",
   "metadata": {},
   "source": [
    "### Q5. Can we create an instance of an abstract class? Explain your answer."
   ]
  },
  {
   "cell_type": "markdown",
   "id": "fb178097",
   "metadata": {},
   "source": [
    "### Ans-\n",
    "### We cannot create instance of abstract class.\n",
    "### Abstract class is a class that is meant to be inherited by other classes but cannot be instantiated on its own. It serves as a blueprint or template for its subclasses to inherit and implement its defined methods.\n"
   ]
  },
  {
   "cell_type": "code",
   "execution_count": null,
   "id": "cf530e7b",
   "metadata": {},
   "outputs": [],
   "source": []
  }
 ],
 "metadata": {
  "kernelspec": {
   "display_name": "Python 3 (ipykernel)",
   "language": "python",
   "name": "python3"
  },
  "language_info": {
   "codemirror_mode": {
    "name": "ipython",
    "version": 3
   },
   "file_extension": ".py",
   "mimetype": "text/x-python",
   "name": "python",
   "nbconvert_exporter": "python",
   "pygments_lexer": "ipython3",
   "version": "3.10.9"
  }
 },
 "nbformat": 4,
 "nbformat_minor": 5
}
