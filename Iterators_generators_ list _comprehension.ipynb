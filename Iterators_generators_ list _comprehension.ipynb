{
 "cells": [
  {
   "cell_type": "markdown",
   "id": "f93bc737",
   "metadata": {},
   "source": [
    "### Q1. Which keyword is used to create a function? Create a function to return a list of odd numbers in the range of 1 to 25."
   ]
  },
  {
   "cell_type": "markdown",
   "id": "2590f1a1",
   "metadata": {},
   "source": [
    "#### Ans->  def keyword is used to create a function"
   ]
  },
  {
   "cell_type": "code",
   "execution_count": 1,
   "id": "d4ffb5e6",
   "metadata": {},
   "outputs": [],
   "source": [
    "def odd_numbers(x,y):\n",
    "    li=[]\n",
    "    for i in range(x,y+1):\n",
    "        if (i%2 !=0):\n",
    "            li.append(i)\n",
    "    return li\n",
    "    "
   ]
  },
  {
   "cell_type": "code",
   "execution_count": 2,
   "id": "7c00688f",
   "metadata": {},
   "outputs": [
    {
     "data": {
      "text/plain": [
       "[1, 3, 5, 7, 9, 11, 13, 15, 17, 19, 21, 23, 25]"
      ]
     },
     "execution_count": 2,
     "metadata": {},
     "output_type": "execute_result"
    }
   ],
   "source": [
    "odd_numbers(1,25)"
   ]
  },
  {
   "cell_type": "markdown",
   "id": "2e45fb17",
   "metadata": {},
   "source": [
    "### Q2. Why *args and **kwargs is used in some functions? Create a function each for *args and **kwargs to demonstrate their use."
   ]
  },
  {
   "cell_type": "markdown",
   "id": "466c697b",
   "metadata": {},
   "source": [
    "#### Ans-> *args allows you to take n number of inputs,so the user can give as many input as he wants.It keeps all the input in the form of tuple\n",
    "\n",
    "#### **kwargs as being a dictionary that maps each keyword to the value that we pass alongside it.The datatype is dictionary\n",
    "\n"
   ]
  },
  {
   "cell_type": "code",
   "execution_count": 3,
   "id": "c0f13841",
   "metadata": {},
   "outputs": [],
   "source": [
    "def test_args(*a):\n",
    "    return a"
   ]
  },
  {
   "cell_type": "code",
   "execution_count": 4,
   "id": "f48cb920",
   "metadata": {},
   "outputs": [
    {
     "data": {
      "text/plain": [
       "()"
      ]
     },
     "execution_count": 4,
     "metadata": {},
     "output_type": "execute_result"
    }
   ],
   "source": [
    "test_args()"
   ]
  },
  {
   "cell_type": "code",
   "execution_count": 5,
   "id": "8810e7a2",
   "metadata": {},
   "outputs": [
    {
     "data": {
      "text/plain": [
       "(1, 2, 3, 'ved', 1.2)"
      ]
     },
     "execution_count": 5,
     "metadata": {},
     "output_type": "execute_result"
    }
   ],
   "source": [
    "test_args(1,2,3,'ved',1.2)"
   ]
  },
  {
   "cell_type": "code",
   "execution_count": 6,
   "id": "83ea281c",
   "metadata": {},
   "outputs": [],
   "source": [
    "def test_kwargs(**k):\n",
    "    return k"
   ]
  },
  {
   "cell_type": "code",
   "execution_count": 7,
   "id": "4624ce4b",
   "metadata": {},
   "outputs": [
    {
     "data": {
      "text/plain": [
       "{}"
      ]
     },
     "execution_count": 7,
     "metadata": {},
     "output_type": "execute_result"
    }
   ],
   "source": [
    "test_kwargs()"
   ]
  },
  {
   "cell_type": "code",
   "execution_count": 8,
   "id": "fbc2a209",
   "metadata": {},
   "outputs": [
    {
     "data": {
      "text/plain": [
       "{'name': ['a', 'b', 'c'], 'roll': 32, 'marks': 87}"
      ]
     },
     "execution_count": 8,
     "metadata": {},
     "output_type": "execute_result"
    }
   ],
   "source": [
    "test_kwargs(name=['a','b','c'],roll=32,marks=87)"
   ]
  },
  {
   "cell_type": "markdown",
   "id": "06e7fb5f",
   "metadata": {},
   "source": [
    "### Q3. What is an iterator in python? Name the method used to initialise the iterator object and the method used for iteration. Use these methods to print the first five elements of the given list [2, 4, 6, 8, 10, 12, 14, 16, 18, 20]."
   ]
  },
  {
   "cell_type": "markdown",
   "id": "34e74bf6",
   "metadata": {},
   "source": [
    "#### Ans.-> Iterator is an object that allows iteration over a sequence of element.We can acess the elements one by one without need of indexes\n",
    "\n",
    "#### We can use iter() method to initialise the iterator object\n",
    "\n",
    "#### The method is used for iteration is next()"
   ]
  },
  {
   "cell_type": "code",
   "execution_count": 22,
   "id": "7d2780ea",
   "metadata": {},
   "outputs": [],
   "source": [
    "li=[2, 4, 6, 8, 10, 12, 14, 16, 18, 20]\n",
    "new_li=iter(li)"
   ]
  },
  {
   "cell_type": "code",
   "execution_count": 11,
   "id": "3c62cdf7",
   "metadata": {},
   "outputs": [
    {
     "data": {
      "text/plain": [
       "(list, list_iterator)"
      ]
     },
     "execution_count": 11,
     "metadata": {},
     "output_type": "execute_result"
    }
   ],
   "source": [
    "type(li),type(new_li)"
   ]
  },
  {
   "cell_type": "code",
   "execution_count": 23,
   "id": "b65662a5",
   "metadata": {},
   "outputs": [
    {
     "name": "stdout",
     "output_type": "stream",
     "text": [
      "2\n",
      "4\n",
      "6\n",
      "8\n",
      "10\n"
     ]
    }
   ],
   "source": [
    "for i in range(5):\n",
    "    res=next(new_li)\n",
    "    print(res)"
   ]
  },
  {
   "cell_type": "markdown",
   "id": "fb027114",
   "metadata": {},
   "source": [
    "### Q4.  What is a generator function in python? Why yield keyword is used? Give an example of a generator function."
   ]
  },
  {
   "cell_type": "markdown",
   "id": "c8f5f843",
   "metadata": {},
   "source": [
    "#### Ans->Generators are a convenient way to create iterators in Python. They use the yield keyword to define the elements of a sequence dynamically. When a generator function is called, it returns a generator object that can be iterated over.\n",
    "\n",
    "#### The yield keyword is used in a generator function to define a point at which the function's execution can be paused and resumed later.\n",
    "\n",
    "\n"
   ]
  },
  {
   "cell_type": "code",
   "execution_count": 26,
   "id": "4c054f04",
   "metadata": {},
   "outputs": [],
   "source": [
    "def func(n):\n",
    "    for i in range(n):\n",
    "        yield(i**2)"
   ]
  },
  {
   "cell_type": "code",
   "execution_count": 27,
   "id": "22ef77aa",
   "metadata": {},
   "outputs": [
    {
     "data": {
      "text/plain": [
       "<generator object func at 0x000002136A353530>"
      ]
     },
     "execution_count": 27,
     "metadata": {},
     "output_type": "execute_result"
    }
   ],
   "source": [
    "func(5)"
   ]
  },
  {
   "cell_type": "code",
   "execution_count": 28,
   "id": "74be3c88",
   "metadata": {},
   "outputs": [
    {
     "name": "stdout",
     "output_type": "stream",
     "text": [
      "0\n",
      "1\n",
      "4\n",
      "9\n",
      "16\n"
     ]
    }
   ],
   "source": [
    "for i in func(5):\n",
    "    print(i)"
   ]
  },
  {
   "cell_type": "markdown",
   "id": "152d7639",
   "metadata": {},
   "source": [
    "### Q5. Create a generator function for prime numbers less than 1000. Use the next() method to print the  first 20 prime numbers."
   ]
  },
  {
   "cell_type": "code",
   "execution_count": 34,
   "id": "a92f4cf8",
   "metadata": {},
   "outputs": [
    {
     "name": "stdout",
     "output_type": "stream",
     "text": [
      "2\n",
      "3\n",
      "5\n",
      "7\n",
      "11\n",
      "13\n",
      "17\n",
      "19\n",
      "23\n",
      "29\n",
      "31\n",
      "37\n",
      "41\n",
      "43\n",
      "47\n",
      "53\n",
      "59\n",
      "61\n",
      "67\n",
      "71\n"
     ]
    }
   ],
   "source": [
    "def prime_number(n):\n",
    "    if n < 2:\n",
    "        return False\n",
    "    for i in range(2, int(n ** 0.5) + 1):\n",
    "        if n % i == 0:\n",
    "            return False\n",
    "    return True\n",
    "\n",
    "def primes_generator():\n",
    "    n = 2\n",
    "    while True:\n",
    "        if prime_number(n):\n",
    "            yield n\n",
    "        n += 1\n",
    "\n",
    "prime_gen = primes_generator()\n",
    "\n",
    "for i in range(20):\n",
    "    print(next(prime_gen))\n",
    "    "
   ]
  },
  {
   "cell_type": "markdown",
   "id": "5ac86dda",
   "metadata": {},
   "source": [
    "#### Q6. Write a python program to print the first 10 Fibonacci numbers using a while loop."
   ]
  },
  {
   "cell_type": "code",
   "execution_count": 47,
   "id": "1f110b90",
   "metadata": {},
   "outputs": [
    {
     "name": "stdout",
     "output_type": "stream",
     "text": [
      "0\n",
      "1\n",
      "1\n",
      "2\n",
      "3\n",
      "5\n",
      "8\n",
      "13\n",
      "21\n",
      "34\n"
     ]
    }
   ],
   "source": [
    "i=0\n",
    "i2=1\n",
    "count=0\n",
    "while count<10:\n",
    "    sum=i+i2\n",
    "    i2=i\n",
    "    i=sum\n",
    "    print(i2)\n",
    "    \n",
    "    \n",
    "    count+=1\n",
    "    "
   ]
  },
  {
   "cell_type": "markdown",
   "id": "8312c8e4",
   "metadata": {},
   "source": [
    "### Q7. Write a List Comprehension to iterate through the given string: ‘pwskills’.\n",
    "\n",
    "### Expected output: ['p', 'w', 's', 'k', 'i', 'l', 'l', 's'] "
   ]
  },
  {
   "cell_type": "code",
   "execution_count": 64,
   "id": "5264b0e7",
   "metadata": {},
   "outputs": [
    {
     "data": {
      "text/plain": [
       "['p', 'w', 's', 'k', 'i', 'l', 'l', 's']"
      ]
     },
     "execution_count": 64,
     "metadata": {},
     "output_type": "execute_result"
    }
   ],
   "source": [
    "st='pwskills'\n",
    "list(map(lambda x : str(x),st))"
   ]
  },
  {
   "cell_type": "markdown",
   "id": "a0639d94",
   "metadata": {},
   "source": [
    "### Q8. Write a python program to check whether a given number is Palindrome or not using a while loop."
   ]
  },
  {
   "cell_type": "code",
   "execution_count": 65,
   "id": "b207db84",
   "metadata": {},
   "outputs": [
    {
     "name": "stdout",
     "output_type": "stream",
     "text": [
      "Enter a number: 121\n",
      "121 is a palindrome\n"
     ]
    }
   ],
   "source": [
    "def is_palindrome(number):\n",
    "    temp = number\n",
    "    reverse = 0\n",
    "\n",
    "    while temp > 0:\n",
    "        digit = temp % 10\n",
    "        reverse = (reverse * 10) + digit\n",
    "        temp = temp // 10\n",
    "\n",
    "    return number == reverse\n",
    "\n",
    "# Example usage\n",
    "num = int(input(\"Enter a number: \"))\n",
    "if is_palindrome(num):\n",
    "    print(num, \"is a palindrome\")\n",
    "else:\n",
    "    print(num, \"is not a palindrome\")"
   ]
  },
  {
   "cell_type": "markdown",
   "id": "cb29973d",
   "metadata": {},
   "source": [
    "### Q9. Write a code to print odd numbers from 1 to 100 using list comprehension"
   ]
  },
  {
   "cell_type": "code",
   "execution_count": 72,
   "id": "4a45f218",
   "metadata": {},
   "outputs": [
    {
     "name": "stdout",
     "output_type": "stream",
     "text": [
      "[1, 3, 5, 7, 9, 11, 13, 15, 17, 19, 21, 23, 25, 27, 29, 31, 33, 35, 37, 39, 41, 43, 45, 47, 49, 51, 53, 55, 57, 59, 61, 63, 65, 67, 69, 71, 73, 75, 77, 79, 81, 83, 85, 87, 89, 91, 93, 95, 97, 99]\n"
     ]
    }
   ],
   "source": [
    "l=[]\n",
    "for i in range(1,101):\n",
    "    l.append(i)\n",
    "    \n",
    "print(list(filter(lambda x: x%2 !=0,l)))"
   ]
  },
  {
   "cell_type": "code",
   "execution_count": null,
   "id": "099a0d92",
   "metadata": {},
   "outputs": [],
   "source": []
  }
 ],
 "metadata": {
  "kernelspec": {
   "display_name": "Python 3 (ipykernel)",
   "language": "python",
   "name": "python3"
  },
  "language_info": {
   "codemirror_mode": {
    "name": "ipython",
    "version": 3
   },
   "file_extension": ".py",
   "mimetype": "text/x-python",
   "name": "python",
   "nbconvert_exporter": "python",
   "pygments_lexer": "ipython3",
   "version": "3.10.9"
  }
 },
 "nbformat": 4,
 "nbformat_minor": 5
}
