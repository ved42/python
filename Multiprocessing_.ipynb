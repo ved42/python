{
 "cells": [
  {
   "cell_type": "markdown",
   "id": "9db41999-7753-49d4-9043-79bd8e021212",
   "metadata": {},
   "source": [
    "### Q1. What is multiprocessing in python? Why is it useful?\n",
    "### Ans\n",
    "#### Multiprocessing in Python refers to the execution of multiple processes simultaneously. Unlike multithreading, where multiple threads are executed within a single process, multiprocessing involves the creation of separate processes that run independently and can utilize multiple CPU cores.\n",
    "#### It improves performance, enables true parallelism without the Global Interpreter Lock (GIL), offers resource isolation, provides fault tolerance, and enhances scalability. It is useful for CPU-bound tasks, computationally intensive operations, and scenarios requiring parallel processing and improved performance."
   ]
  },
  {
   "cell_type": "markdown",
   "id": "a5d3400e-0689-4f9c-ba66-8bfba659544f",
   "metadata": {},
   "source": [
    "### Q2. What are the differences between multiprocessing and multithreading?\n",
    "### Ans\n",
    "#### Here are the key differences between multiprocessing and multithreading:\n",
    "#### 1. Execution Model: In multiprocessing, multiple processes run in parallel, each with its own memory space and resources. Each process has its own Python interpreter instance. In multithreading, multiple threads are executed within a single process, sharing the same memory space.\n",
    "#### 2. Parallelism: Multiprocessing achieves true parallelism by utilizing multiple CPU cores. Each process runs independently and can execute different tasks simultaneously. Multithreading, on the other hand, is subject to the Global Interpreter Lock (GIL) in Python, which allows only one thread to execute Python bytecode at a time. As a result, multithreading may not fully utilize multiple CPU cores and does not provide true parallelism.\n",
    "#### 3. Memory Usage: Each process in multiprocessing has its own memory space, allowing for resource isolation. This means that memory-intensive tasks can be handled more efficiently as memory is not shared between processes. In multithreading, threads share the same memory space, leading to shared memory access and potential synchronization issues.\n",
    "#### 4. Communication and Synchronization: Inter-process communication (IPC) is required for communication between processes in multiprocessing. Various mechanisms such as pipes, queues, or shared memory can be used. In multithreading, threads can communicate more easily by directly sharing memory. However, proper synchronization mechanisms, such as locks or semaphores, are required to avoid race conditions and ensure thread safety.\n",
    "#### 5. Overhead: Creating and managing processes in multiprocessing involves more overhead compared to creating and managing threads in multithreading. Processes require additional system resources and have higher startup and teardown costs compared to threads."
   ]
  },
  {
   "cell_type": "markdown",
   "id": "ad35a3ce-974f-4cd7-8943-5ec65ea8599c",
   "metadata": {},
   "source": [
    "### Q3. Write a python code to create a process using the multiprocessing module.\n",
    "### Ans"
   ]
  },
  {
   "cell_type": "code",
   "execution_count": 4,
   "id": "f32d0601-f7e9-4b9e-91ab-9f90b53a6a69",
   "metadata": {},
   "outputs": [
    {
     "name": "stdout",
     "output_type": "stream",
     "text": [
      "this is my main prog\n",
      "this is my multiprocessing prog\n"
     ]
    }
   ],
   "source": [
    "import multiprocessing\n",
    "def test():\n",
    "    print(\"this is my multiprocessing prog\")\n",
    "\n",
    "if __name__ == '__main__':\n",
    "    m = multiprocessing.Process(target=test)\n",
    "    print(\"this is my main prog\")\n",
    "    m.start()\n",
    "    m.join()"
   ]
  },
  {
   "cell_type": "markdown",
   "id": "7293520e-2755-4f40-bb6e-60b0587d0678",
   "metadata": {},
   "source": [
    "### Q4. What is a multiprocessing pool in python? Why is it used?\n",
    "### Ans\n",
    "#### Think of a multiprocessing pool as a group of workers (processes) that are ready to execute tasks. You can submit multiple tasks to the pool, and the pool automatically assigns these tasks to its worker processes for parallel execution. It manages the distribution of tasks and collects the results, making it easier to parallelize and distribute work across multiple processes.\n",
    "#### Parallel Execution: The multiprocessing pool enables parallel execution of tasks by distributing them among multiple processes. Each process in the pool can work on a different task simultaneously, utilizing the available CPU cores and resources efficiently.\n",
    "#### Performance Improvement: By leveraging multiple processes, a multiprocessing pool can significantly improve the performance of CPU-bound or computationally intensive tasks. It enables parallel processing, reducing the overall execution time.\n",
    "#### Task Management: The pool handles the management and distribution of tasks, allowing you to focus on defining the tasks and retrieving the results. You can submit tasks to the pool and let it handle the scheduling and execution details.\n",
    "### Q5. How can we create a pool of worker processes in python using the multiprocessing module?\n",
    "### Ans"
   ]
  },
  {
   "cell_type": "code",
   "execution_count": 2,
   "id": "432bb51c-03de-45d4-abfc-147b8e325cbb",
   "metadata": {},
   "outputs": [
    {
     "name": "stdout",
     "output_type": "stream",
     "text": [
      "[1, 4, 9, 16, 25, 36, 49, 64, 81]\n"
     ]
    }
   ],
   "source": [
    "import multiprocessing\n",
    "def square(n):\n",
    "    return n**2\n",
    "\n",
    "if __name__ == '__main__':\n",
    "    with multiprocessing.Pool(processes=4) as pool : \n",
    "        out = pool.map(square , [1,2,3,4,5,6,7,8,9])\n",
    "        print(out)"
   ]
  },
  {
   "cell_type": "markdown",
   "id": "68437df9-dee1-4d49-ad1e-9be25807b384",
   "metadata": {},
   "source": [
    "### Q6. Write a python program to create 4 processes, each process should print a different number using the multiprocessing module in python."
   ]
  },
  {
   "cell_type": "code",
   "execution_count": 3,
   "id": "0bedc7c8-a546-4913-9ebc-33951b17067f",
   "metadata": {},
   "outputs": [
    {
     "name": "stdout",
     "output_type": "stream",
     "text": [
      "Process ID:Process ID:Process ID:Process ID:    225227228226\n",
      "\n",
      "\n",
      "\n",
      "Number:Number:Number:Number:    341\n",
      "2\n",
      "\n",
      "\n",
      "All processes finished\n"
     ]
    }
   ],
   "source": [
    "import multiprocessing\n",
    "\n",
    "def print_number(number):\n",
    "    print(\"Process ID:\", multiprocessing.current_process().pid)\n",
    "    print(\"Number:\", number)\n",
    "\n",
    "if __name__ == \"__main__\":\n",
    "    # Create a list of numbers\n",
    "    numbers = [1, 2, 3, 4]\n",
    "\n",
    "    # Create a pool of processes\n",
    "    pool = multiprocessing.Pool(processes=4)\n",
    "\n",
    "    # Map the print_number function to the list of numbers\n",
    "    pool.map(print_number, numbers)\n",
    "\n",
    "    # Close the pool\n",
    "    pool.close()\n",
    "\n",
    "    # Wait for all processes to complete\n",
    "    pool.join()\n",
    "\n",
    "    print(\"All processes finished\")\n"
   ]
  },
  {
   "cell_type": "code",
   "execution_count": null,
   "id": "92323c01-27cb-4d76-8ab9-f027bb5b758d",
   "metadata": {},
   "outputs": [],
   "source": []
  }
 ],
 "metadata": {
  "kernelspec": {
   "display_name": "Python 3 (ipykernel)",
   "language": "python",
   "name": "python3"
  },
  "language_info": {
   "codemirror_mode": {
    "name": "ipython",
    "version": 3
   },
   "file_extension": ".py",
   "mimetype": "text/x-python",
   "name": "python",
   "nbconvert_exporter": "python",
   "pygments_lexer": "ipython3",
   "version": "3.10.8"
  }
 },
 "nbformat": 4,
 "nbformat_minor": 5
}
