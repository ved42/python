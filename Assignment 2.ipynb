{
 "cells": [
  {
   "cell_type": "markdown",
   "id": "eb95c3f7",
   "metadata": {},
   "source": [
    "### Q1. How do you comment code in Python? What are the different types of comments?"
   ]
  },
  {
   "cell_type": "markdown",
   "id": "fb61d1de",
   "metadata": {},
   "source": [
    "In python we comment a code using # symbol.\n",
    "this symbol maximum comment out for one line,for more than one line we use '''statements'''\n",
    "\n",
    "for eg."
   ]
  },
  {
   "cell_type": "code",
   "execution_count": 1,
   "id": "809db3e9",
   "metadata": {},
   "outputs": [],
   "source": [
    "# this is one line or inline comment"
   ]
  },
  {
   "cell_type": "code",
   "execution_count": 3,
   "id": "667aa6fd",
   "metadata": {},
   "outputs": [
    {
     "data": {
      "text/plain": [
       "'\\nthis is multiple line command,\\ndata science course,\\nand many more.\\n\\n'"
      ]
     },
     "execution_count": 3,
     "metadata": {},
     "output_type": "execute_result"
    }
   ],
   "source": [
    "'''\n",
    "this is multiple line command,\n",
    "data science course,\n",
    "and many more.\n",
    "\n",
    "'''"
   ]
  },
  {
   "cell_type": "markdown",
   "id": "1861ffc1",
   "metadata": {},
   "source": [
    "### Q2. What are variables in Python? How do you declare and assign values to variables?"
   ]
  },
  {
   "cell_type": "markdown",
   "id": "df40ff0a",
   "metadata": {},
   "source": [
    "A variables in python ,used for to store the values in it. \n",
    "\n",
    "A Python variable is a name given to a memory location.\n",
    "\n",
    "->A Python variable name must start with a letter or the underscore character.\n",
    "\n",
    "->A Python variable name cannot start with a number.\n",
    "\n",
    "->A Python variable name can only contain alpha-numeric characters and underscores (A-z, 0-9, and _ ).\n",
    "\n",
    "->Variable in Python names are case-sensitive (name, Name, and NAME are three different variables).\n",
    "\n",
    "->The reserved words(keywords) in Python cannot be used to name the variable in Python."
   ]
  },
  {
   "cell_type": "code",
   "execution_count": 4,
   "id": "557836a8",
   "metadata": {},
   "outputs": [],
   "source": [
    "# for example\n",
    "_name='vedant'\n",
    "Name='ramesh'\n",
    "na34='suresh'\n"
   ]
  },
  {
   "cell_type": "code",
   "execution_count": 5,
   "id": "651783b2",
   "metadata": {},
   "outputs": [
    {
     "name": "stdout",
     "output_type": "stream",
     "text": [
      "vedant ramesh suresh\n"
     ]
    }
   ],
   "source": [
    "print(_name,Name,na34)"
   ]
  },
  {
   "cell_type": "markdown",
   "id": "27495bd3",
   "metadata": {},
   "source": [
    "### Q3. How do you convert one data type to another in Python?"
   ]
  },
  {
   "cell_type": "code",
   "execution_count": 7,
   "id": "63a9bd47",
   "metadata": {},
   "outputs": [
    {
     "name": "stdout",
     "output_type": "stream",
     "text": [
      "original data type <class 'int'>\n",
      "after convert into another datatype,data type is <class 'str'> 10\n"
     ]
    }
   ],
   "source": [
    "# to convert into one data type to another data type we used inbuilt \n",
    "# function named as datatype()\n",
    "\n",
    "# for eg.\n",
    "a=10\n",
    "print(\"original data type\",type(a))\n",
    "b=str(a)\n",
    "print(\"after convert into another datatype,data type is\",type(b),b)"
   ]
  },
  {
   "cell_type": "markdown",
   "id": "af0f514e",
   "metadata": {},
   "source": [
    "### Q4. How do you write and execute a Python script from the command line?"
   ]
  },
  {
   "cell_type": "markdown",
   "id": "00fbd68a",
   "metadata": {},
   "source": [
    "Ans:\n",
    "\n",
    "Verify your terminal or command prompt can run Python\n",
    "\n",
    "Create a Python script that is error-free\n",
    "\n",
    "Use python your/file/name.py to run your script from the terminal"
   ]
  },
  {
   "cell_type": "markdown",
   "id": "eccb4d0e",
   "metadata": {},
   "source": [
    "### Q5. Given a list my_list = [1, 2, 3, 4, 5], write the code to slice the list and obtain the sub-list [2, 3]."
   ]
  },
  {
   "cell_type": "code",
   "execution_count": 8,
   "id": "6a50d3b3",
   "metadata": {},
   "outputs": [
    {
     "name": "stdout",
     "output_type": "stream",
     "text": [
      "[2, 3]\n"
     ]
    }
   ],
   "source": [
    "my_list = [1, 2, 3, 4, 5]\n",
    "sub_list=my_list[1:3]\n",
    "print(sub_list)"
   ]
  },
  {
   "cell_type": "markdown",
   "id": "59e09924",
   "metadata": {},
   "source": [
    "### Q6. What is a complex number in mathematics, and how is it represented in Python?"
   ]
  },
  {
   "cell_type": "markdown",
   "id": "fa0a387b",
   "metadata": {},
   "source": [
    "Complex number is the combination of real number and imaginary number.In mathematics imaginary number mainly represented by i letter\n",
    "\n",
    "In python the imaginary number always represented by the j only,other that python not accepting aa a complex number\n",
    "\n",
    "for eg,\n"
   ]
  },
  {
   "cell_type": "code",
   "execution_count": 9,
   "id": "abf4a645",
   "metadata": {},
   "outputs": [
    {
     "name": "stdout",
     "output_type": "stream",
     "text": [
      "(2+3j)\n",
      "<class 'complex'>\n"
     ]
    }
   ],
   "source": [
    "complex_eg=2+3j\n",
    "print(complex_eg)\n",
    "print(type(complex_eg))"
   ]
  },
  {
   "cell_type": "code",
   "execution_count": 10,
   "id": "3577a1de",
   "metadata": {},
   "outputs": [
    {
     "ename": "SyntaxError",
     "evalue": "invalid decimal literal (2387003186.py, line 1)",
     "output_type": "error",
     "traceback": [
      "\u001b[1;36m  Cell \u001b[1;32mIn[10], line 1\u001b[1;36m\u001b[0m\n\u001b[1;33m    complex_eg=2+3i\u001b[0m\n\u001b[1;37m                 ^\u001b[0m\n\u001b[1;31mSyntaxError\u001b[0m\u001b[1;31m:\u001b[0m invalid decimal literal\n"
     ]
    }
   ],
   "source": [
    "complex_eg=2+3i\n",
    "print(complex_eg)\n",
    "print(type(complex_eg))"
   ]
  },
  {
   "cell_type": "markdown",
   "id": "517b46cd",
   "metadata": {},
   "source": [
    "### Q7. What is the correct way to declare a variable named age and assign the value 25 to it?"
   ]
  },
  {
   "cell_type": "code",
   "execution_count": 11,
   "id": "89f48d2e",
   "metadata": {},
   "outputs": [
    {
     "name": "stdout",
     "output_type": "stream",
     "text": [
      "25\n"
     ]
    }
   ],
   "source": [
    "age=25\n",
    "print(age)\n"
   ]
  },
  {
   "cell_type": "markdown",
   "id": "1b23176e",
   "metadata": {},
   "source": [
    "### Q8. Declare a variable named price and assign the value 9.99 to it. What data type does this variable belong to?\n"
   ]
  },
  {
   "cell_type": "code",
   "execution_count": 12,
   "id": "85c69d81",
   "metadata": {},
   "outputs": [
    {
     "name": "stdout",
     "output_type": "stream",
     "text": [
      "9.99\n",
      "the data type of price is <class 'float'>\n"
     ]
    }
   ],
   "source": [
    "price=9.99\n",
    "print(price)\n",
    "d_type=type(price)\n",
    "print(\"the data type of price is\",d_type)"
   ]
  },
  {
   "cell_type": "markdown",
   "id": "edee5687",
   "metadata": {},
   "source": [
    "### Q9. Create a variable named name and assign your full name to it as a string. How would you print the value of this variable?\n"
   ]
  },
  {
   "cell_type": "code",
   "execution_count": 13,
   "id": "5ca442df",
   "metadata": {},
   "outputs": [
    {
     "name": "stdout",
     "output_type": "stream",
     "text": [
      "Vedant Prashant Kokane\n"
     ]
    }
   ],
   "source": [
    "name='Vedant Prashant Kokane'\n",
    "print(name)"
   ]
  },
  {
   "cell_type": "markdown",
   "id": "81bf8a91",
   "metadata": {},
   "source": [
    "###  Q10. Given the string \"Hello, World!\", extract the substring \"World\"."
   ]
  },
  {
   "cell_type": "code",
   "execution_count": 14,
   "id": "3c8b7eda",
   "metadata": {},
   "outputs": [
    {
     "name": "stdout",
     "output_type": "stream",
     "text": [
      "World\n"
     ]
    }
   ],
   "source": [
    "string=\"Hello, World!\"\n",
    "substring=string[7:12]\n",
    "print(substring)"
   ]
  },
  {
   "cell_type": "markdown",
   "id": "ddc5bf3e",
   "metadata": {},
   "source": [
    "### Q11. Create a variable named \"is_student\" and assign it a boolean value indicating whether you are currently a student or not.\n"
   ]
  },
  {
   "cell_type": "code",
   "execution_count": 16,
   "id": "5bed82f9",
   "metadata": {},
   "outputs": [],
   "source": [
    "is_student=True\n"
   ]
  },
  {
   "cell_type": "code",
   "execution_count": 17,
   "id": "a4d4da5f",
   "metadata": {},
   "outputs": [
    {
     "name": "stdout",
     "output_type": "stream",
     "text": [
      "True\n"
     ]
    }
   ],
   "source": [
    "print(is_student)"
   ]
  },
  {
   "cell_type": "code",
   "execution_count": null,
   "id": "9fc20351",
   "metadata": {},
   "outputs": [],
   "source": []
  }
 ],
 "metadata": {
  "kernelspec": {
   "display_name": "Python 3 (ipykernel)",
   "language": "python",
   "name": "python3"
  },
  "language_info": {
   "codemirror_mode": {
    "name": "ipython",
    "version": 3
   },
   "file_extension": ".py",
   "mimetype": "text/x-python",
   "name": "python",
   "nbconvert_exporter": "python",
   "pygments_lexer": "ipython3",
   "version": "3.10.9"
  }
 },
 "nbformat": 4,
 "nbformat_minor": 5
}
