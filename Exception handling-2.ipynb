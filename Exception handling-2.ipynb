{
 "cells": [
  {
   "cell_type": "markdown",
   "id": "fb14350a",
   "metadata": {},
   "source": [
    "### Q1. Explain why we have to use the Exception class while creating a Custom Exception."
   ]
  },
  {
   "cell_type": "markdown",
   "id": "9f4aa560",
   "metadata": {},
   "source": [
    "### Ans\n",
    "### When creating custom exceptions in a programming language, it is important to use the Exception class as the base class for your custom exception. The Exception class serves as a fundamental building block for exception handling mechanisms in many programming languages, including Python.\n",
    "### Using the Exception class as the base class for custom exceptions is important because:\n",
    "### 1. It provides a standardized interface and inheritance hierarchy for exceptions.\n",
    "### 2. It promotes code reuse and simplifies exception handling.\n",
    "### 3. It allows for consistent error handling throughout the codebase.\n",
    "### 4. It leverages built-in exception handling mechanisms provided by the programming language.\n",
    "### 5. It makes the code more readable and intuitive to other developers.\n",
    "### 6. It ensures compatibility with libraries, frameworks, and tools designed to work with exceptions derived from the Exception class."
   ]
  },
  {
   "cell_type": "markdown",
   "id": "fbaece5a",
   "metadata": {},
   "source": [
    "### Q2. Write a python program to print Python Exception Hierarchy."
   ]
  },
  {
   "cell_type": "code",
   "execution_count": 1,
   "id": "698c0c3b",
   "metadata": {},
   "outputs": [
    {
     "name": "stdout",
     "output_type": "stream",
     "text": [
      "Python Exception Hierarchy:\n",
      "object\n"
     ]
    }
   ],
   "source": [
    "import sys\n",
    "\n",
    "def print_exception_hierarchy():\n",
    "    print(\"Python Exception Hierarchy:\")\n",
    "    for exc in sys.exc_info()[1].__class__.__bases__:\n",
    "        print(exc.__name__)\n",
    "\n",
    "print_exception_hierarchy()\n"
   ]
  },
  {
   "cell_type": "markdown",
   "id": "78e1c43f",
   "metadata": {},
   "source": [
    "### Q3. What errors are defined in the ArithmeticError class? Explain any two with an example.\n",
    "### Ans\n",
    "### The ArithmeticError Exception is the base class for all errors associated with arithmetic operation.\n",
    "### ArithmeticError\n",
    "### --> ZeroDivisionError\n",
    "### --> OverflowError\n",
    "### --> FloatingPointError"
   ]
  },
  {
   "cell_type": "code",
   "execution_count": 1,
   "id": "7d49a7ff",
   "metadata": {},
   "outputs": [
    {
     "name": "stdout",
     "output_type": "stream",
     "text": [
      "division by zero\n"
     ]
    }
   ],
   "source": [
    "#1. ZeroDivisionError: This exception is raised when attempting to divide a number by zero.\n",
    "try:\n",
    "    a=10/0\n",
    "except ArithmeticError as e:\n",
    "    print(e)"
   ]
  },
  {
   "cell_type": "code",
   "execution_count": 9,
   "id": "21ab6b5d",
   "metadata": {},
   "outputs": [
    {
     "name": "stdout",
     "output_type": "stream",
     "text": [
      "(34, 'Result too large'), <class 'OverflowError'>\n"
     ]
    }
   ],
   "source": [
    "#2.OverflowError: This exception is raised when the result of an arithmetic operation exceeds the maximum representable value.\n",
    "j = 5.0\n",
    "\n",
    "try:\n",
    "    for i in range(1, 1000):\n",
    "        j = j**i\n",
    "except ArithmeticError as e:\n",
    "    print(f\"{e}, {e.__class__}\")\n"
   ]
  },
  {
   "cell_type": "markdown",
   "id": "60789c20",
   "metadata": {},
   "source": [
    "### Q4. Why LookupError class is used? Explain with an example KeyError and IndexError.\n",
    "### Ans\n",
    "### The LookupError class is a base class for exceptions that occur when a lookup or indexing operation fails. It serves as a parent class for more specific lookup-related exceptions, such as KeyError and IndexError."
   ]
  },
  {
   "cell_type": "code",
   "execution_count": 13,
   "id": "d73db3c7",
   "metadata": {},
   "outputs": [
    {
     "name": "stdout",
     "output_type": "stream",
     "text": [
      "'key8'\n"
     ]
    }
   ],
   "source": [
    "###keyerror- This exception is raised when a dictionary key is not found.\n",
    "try:\n",
    "    a={'key1':10,'key2':20}\n",
    "    print(a['key8'])\n",
    "except KeyError as e:\n",
    "    print(e)"
   ]
  },
  {
   "cell_type": "code",
   "execution_count": 14,
   "id": "9813074b",
   "metadata": {},
   "outputs": [
    {
     "name": "stdout",
     "output_type": "stream",
     "text": [
      "list index out of range\n"
     ]
    }
   ],
   "source": [
    "### indexerror- This exception is raised when attempting to access an index that is out of range in a sequence (such as a list or a string).\n",
    "a=[1,2,3,4]\n",
    "try:\n",
    "    print(a[10])\n",
    "except IndexError as e:\n",
    "    print(e)"
   ]
  },
  {
   "cell_type": "markdown",
   "id": "ae4d37ba",
   "metadata": {},
   "source": [
    "###  Q5. Explain ImportError. What is ModuleNotFoundError?\n",
    "### Ans\n",
    "### ImportError: This exception is raised when there is a general issue with importing a module. It can occur due to several reasons, such as a module not being installed, a syntax error in the module, or a missing dependency.\n",
    "### ModuleNotFoundError: This exception is a subclass of ImportError that specifically indicates that a module could not be found during import.\n"
   ]
  },
  {
   "cell_type": "code",
   "execution_count": 15,
   "id": "7f509b85",
   "metadata": {},
   "outputs": [
    {
     "name": "stdout",
     "output_type": "stream",
     "text": [
      "No module named 'vk'\n"
     ]
    }
   ],
   "source": [
    "try:\n",
    "    import vk\n",
    "except ImportError as e:\n",
    "    print(e)"
   ]
  },
  {
   "cell_type": "code",
   "execution_count": 16,
   "id": "4fdfceaf",
   "metadata": {},
   "outputs": [
    {
     "name": "stdout",
     "output_type": "stream",
     "text": [
      "No module named 'ms'\n"
     ]
    }
   ],
   "source": [
    "try:\n",
    "    import ms\n",
    "except ModuleNotFoundError as e:\n",
    "    print(e)"
   ]
  },
  {
   "cell_type": "markdown",
   "id": "210bcaa6",
   "metadata": {},
   "source": [
    "### Q6. List down some best practices for exception handling in python.\n",
    "### Be specific in exception handling.\n",
    "### Use multiple except blocks for different exception types.\n",
    "### Utilize finally blocks for cleanup actions.\n",
    "### Avoid bare except statements.\n",
    "### Handle exceptions gracefully with meaningful feedback.\n",
    "### Don't suppress exceptions; handle them appropriately.\n",
    "### Raise custom exceptions when necessary.\n",
    "### Log exceptions for debugging and troubleshooting.\n"
   ]
  },
  {
   "cell_type": "code",
   "execution_count": null,
   "id": "7e2750d4",
   "metadata": {},
   "outputs": [],
   "source": []
  }
 ],
 "metadata": {
  "kernelspec": {
   "display_name": "Python 3 (ipykernel)",
   "language": "python",
   "name": "python3"
  },
  "language_info": {
   "codemirror_mode": {
    "name": "ipython",
    "version": 3
   },
   "file_extension": ".py",
   "mimetype": "text/x-python",
   "name": "python",
   "nbconvert_exporter": "python",
   "pygments_lexer": "ipython3",
   "version": "3.10.9"
  }
 },
 "nbformat": 4,
 "nbformat_minor": 5
}
