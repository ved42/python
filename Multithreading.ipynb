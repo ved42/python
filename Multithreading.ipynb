{
 "cells": [
  {
   "cell_type": "markdown",
   "id": "bde22a5c",
   "metadata": {},
   "source": [
    "### Q1.What is multithreading in python? why is it used? Name the module used to handle threads in python\n",
    "#### Multithreading in Python refers to the concurrent execution of multiple threads within a single program. A thread is a lightweight unit of execution that runs independently within a process and shares the same memory space. Multithreading allows for concurrent execution of tasks, where different threads can perform separate operations simultaneously.\n",
    "#### Multithreading is used to achieve concurrent execution, which can lead to improved performance and responsiveness in certain scenarios. It is particularly useful in situations where there are tasks that can be executed independently and don't have strict dependencies on each other. By running these tasks concurrently, you can leverage the available CPU resources more efficiently and potentially reduce the overall execution time.\n",
    "#### The 'threading' module is used to handle threads in Python.\n",
    "#### Syntax- import threading\n"
   ]
  },
  {
   "cell_type": "markdown",
   "id": "f7ef8b0e",
   "metadata": {},
   "source": [
    "### Q2. Why threading module used? Write the use of the following functions\n",
    "### 1.activeCount()\n",
    "### 2.currentThread()\n",
    "### enumerate()\n",
    "### Ans\n",
    "#### The threading module in Python is used to handle threads and provides a high-level interface for creating, controlling, and managing threads within a program. It allows for concurrent execution, synchronization, and coordination between threads."
   ]
  },
  {
   "cell_type": "code",
   "execution_count": 4,
   "id": "6cafd8b6",
   "metadata": {},
   "outputs": [
    {
     "name": "stdout",
     "output_type": "stream",
     "text": [
      "Hello from thread\n",
      "Hello from thread\n",
      "Active threads: 6\n"
     ]
    },
    {
     "name": "stderr",
     "output_type": "stream",
     "text": [
      "C:\\Users\\Admin\\AppData\\Local\\Temp\\ipykernel_12636\\4124998983.py:13: DeprecationWarning: activeCount() is deprecated, use active_count() instead\n",
      "  print(\"Active threads:\", threading.activeCount())\n"
     ]
    }
   ],
   "source": [
    "#1.activeCount()-This function returns the number of Thread objects currently alive. \n",
    "import threading\n",
    "\n",
    "def my_thread_function():\n",
    "    print(\"Hello from thread\")\n",
    "\n",
    "thread1 = threading.Thread(target=my_thread_function)\n",
    "thread2 = threading.Thread(target=my_thread_function)\n",
    "\n",
    "thread1.start()\n",
    "thread2.start()\n",
    "\n",
    "print(\"Active threads:\", threading.activeCount())\n"
   ]
  },
  {
   "cell_type": "code",
   "execution_count": 5,
   "id": "8abfd9e4",
   "metadata": {},
   "outputs": [
    {
     "name": "stdout",
     "output_type": "stream",
     "text": [
      "Thread name: Thread-12 (my_thread_function)\n"
     ]
    },
    {
     "name": "stderr",
     "output_type": "stream",
     "text": [
      "C:\\Users\\Admin\\AppData\\Local\\Temp\\ipykernel_12636\\3216271544.py:5: DeprecationWarning: currentThread() is deprecated, use current_thread() instead\n",
      "  current_thread = threading.currentThread()\n"
     ]
    }
   ],
   "source": [
    "#currentThread(): This function returns the current Thread object corresponding to the calling thread.\n",
    "import threading\n",
    "\n",
    "def my_thread_function():\n",
    "    current_thread = threading.currentThread()\n",
    "    print(\"Thread name:\", current_thread.name)\n",
    "\n",
    "thread = threading.Thread(target=my_thread_function)\n",
    "thread.start()\n"
   ]
  },
  {
   "cell_type": "code",
   "execution_count": 6,
   "id": "d8e4d711",
   "metadata": {},
   "outputs": [
    {
     "name": "stdout",
     "output_type": "stream",
     "text": [
      "Hello from thread\n",
      "Hello from thread\n",
      "Active threads: 6\n"
     ]
    }
   ],
   "source": [
    "#enumerate(): This function returns a list of all active Thread objects. It returns a list that contains all currently alive threads\n",
    "import threading\n",
    "\n",
    "def my_thread_function():\n",
    "    print(\"Hello from thread\")\n",
    "\n",
    "thread1 = threading.Thread(target=my_thread_function)\n",
    "thread2 = threading.Thread(target=my_thread_function)\n",
    "\n",
    "thread1.start()\n",
    "thread2.start()\n",
    "\n",
    "thread_list = threading.enumerate()\n",
    "print(\"Active threads:\", len(thread_list))\n"
   ]
  },
  {
   "cell_type": "markdown",
   "id": "2e2f2aeb",
   "metadata": {},
   "source": [
    "### Q3. Explain the following functions\n",
    "### 1.run()\n",
    "### 2.start()\n",
    "### 3.join()\n",
    "### 4.isAlive()"
   ]
  },
  {
   "cell_type": "code",
   "execution_count": 7,
   "id": "1797e9e6",
   "metadata": {},
   "outputs": [
    {
     "name": "stdout",
     "output_type": "stream",
     "text": [
      "Thread executing\n"
     ]
    }
   ],
   "source": [
    "#When a Thread object's start() method is called, it internally invokes the run() method to execute the code within the thread.\n",
    "#The run() method needs to be overridden in a subclass of Thread to define the behavior of the thread.\n",
    "import threading\n",
    "\n",
    "class MyThread(threading.Thread):\n",
    "    def run(self):\n",
    "        print(\"Thread executing\")\n",
    "\n",
    "thread = MyThread()\n",
    "thread.start()\n"
   ]
  },
  {
   "cell_type": "code",
   "execution_count": 8,
   "id": "21d8a6c2",
   "metadata": {},
   "outputs": [
    {
     "name": "stdout",
     "output_type": "stream",
     "text": [
      "Thread executing\n"
     ]
    }
   ],
   "source": [
    "#start(): The start() method is used to start the execution of a thread. \n",
    "#It initializes the thread's resources, invokes the run() method, \n",
    "#and allows the thread to run concurrently with other threads in the program.\n",
    "import threading\n",
    "\n",
    "def my_thread_function():\n",
    "    print(\"Thread executing\")\n",
    "\n",
    "thread = threading.Thread(target=my_thread_function)\n",
    "thread.start()\n"
   ]
  },
  {
   "cell_type": "code",
   "execution_count": 9,
   "id": "c5ed8f4c",
   "metadata": {},
   "outputs": [
    {
     "name": "stdout",
     "output_type": "stream",
     "text": [
      "Thread executing\n",
      "Thread finished\n"
     ]
    }
   ],
   "source": [
    "#join(): The join() method blocks the calling thread until the thread on which it is called completes its execution. \n",
    "# It ensures that the calling thread waits for the specified thread to finish before continuing its own execution.\n",
    "import threading\n",
    "\n",
    "def my_thread_function():\n",
    "    print(\"Thread executing\")\n",
    "\n",
    "thread = threading.Thread(target=my_thread_function)\n",
    "thread.start()\n",
    "\n",
    "thread.join()\n",
    "print(\"Thread finished\")\n"
   ]
  },
  {
   "cell_type": "code",
   "execution_count": 19,
   "id": "9bacc411",
   "metadata": {},
   "outputs": [
    {
     "name": "stdout",
     "output_type": "stream",
     "text": [
      "Countdown: 5\n",
      "Waiting for countdown to finish...\n",
      "Waiting for countdown to finish...Countdown: 4\n",
      "\n",
      "Waiting for countdown to finish...Countdown: 3\n",
      "\n",
      "Waiting for countdown to finish...Countdown: 2\n",
      "\n",
      "Waiting for countdown to finish...Countdown: 1\n",
      "\n",
      "Countdown finished\n",
      "Main thread exiting\n"
     ]
    }
   ],
   "source": [
    "# isAlive(): The isAlive() method is used to check if a thread is currently active and running.\n",
    "# It returns True if the thread is still running, and False otherwise.\n",
    "import threading\n",
    "import time\n",
    "\n",
    "def countdown():\n",
    "    for i in range(5, 0, -1):\n",
    "        print(f\"Countdown: {i}\")\n",
    "        time.sleep(1)\n",
    "\n",
    "    print(\"Countdown finished\")\n",
    "\n",
    "# Create a thread for countdown\n",
    "thread = threading.Thread(target=countdown)\n",
    "thread.start()\n",
    "\n",
    "# Check if the thread is still alive\n",
    "while thread.is_alive():\n",
    "    print(\"Waiting for countdown to finish...\")\n",
    "    time.sleep(1)\n",
    "\n",
    "print(\"Main thread exiting\")\n",
    "\n"
   ]
  },
  {
   "cell_type": "markdown",
   "id": "5e059631",
   "metadata": {},
   "source": [
    "### Q4.  Write a python program to create two threads. Thread one must print the list of squares and thread two must print the list of cubes"
   ]
  },
  {
   "cell_type": "code",
   "execution_count": 17,
   "id": "5260811e",
   "metadata": {},
   "outputs": [
    {
     "name": "stdout",
     "output_type": "stream",
     "text": [
      "square : [1, 4, 9, 16, 25]\n",
      "cube: [1, 8, 27, 64, 125]\n"
     ]
    }
   ],
   "source": [
    "import threading\n",
    "\n",
    "def squares(number):\n",
    "    squares=[num**2 for num in number]\n",
    "    print(\"square :\",squares)\n",
    "    \n",
    "def cubes(number):\n",
    "    cube=[num**3 for num in number]\n",
    "    print(\"cube:\",cube)\n",
    "\n",
    "number=[1,2,3,4,5]\n",
    "\n",
    "thread1=threading.Thread(target=squares,args=(number,))\n",
    "thread2=threading.Thread(target=cubes,args=(number,))\n",
    "\n",
    "thread1.start()\n",
    "thread2.start()"
   ]
  },
  {
   "cell_type": "markdown",
   "id": "898bdbb4",
   "metadata": {},
   "source": [
    "### 5. State advantages and disadvantages of multithreading\n",
    "#### Advantages of Multithreading:\n",
    "#### 1. Increased Performance: Multithreading can lead to improved performance and responsiveness by allowing multiple tasks to run concurrently. It can utilize the available CPU resources more efficiently, especially in situations where tasks can be executed independently or involve waiting for I/O operations.\n",
    "#### 2. Enhanced Responsiveness: Multithreading can make an application more responsive by separating time-consuming tasks from the main thread. This prevents the user interface from becoming unresponsive during long-running operations and allows the application to handle user interactions smoothly.\n",
    "#### 3. Resource Sharing: Threads within a process share the same memory space, enabling efficient sharing of data and resources. This can be advantageous for communication and coordination between threads without the need for complex inter-process communication mechanisms.\n",
    "#### 4. Simplified Design: Multithreading can simplify the design of certain applications by dividing them into smaller, more manageable threads. Each thread can handle a specific task or functionality, leading to modular and maintainable code.\n",
    "#### Disadvantages of Multithreading:\n",
    "#### 1. Complexity: Multithreading introduces additional complexity compared to single-threaded programs. It requires careful synchronization and coordination between threads to avoid issues like race conditions, deadlocks, and data corruption. Debugging and troubleshooting multithreaded programs can also be more challenging.\n",
    "#### 2. Increased Memory Usage: Each thread within a process requires its own stack and memory resources. When using multiple threads, the memory footprint of the program may increase, especially if the threads require large data structures or perform memory-intensive operations.\n",
    "#### 3. Synchronization Overhead: When multiple threads access shared data or resources, synchronization mechanisms such as locks, semaphores, or mutexes are needed to ensure thread safety. Implementing proper synchronization can introduce overhead and potential performance degradation, especially if excessive locking or contention occurs.\n",
    "#### 4. Difficult Debugging: Debugging multithreaded applications can be more complex due to potential race conditions and non-deterministic behavior. Issues like deadlocks or inconsistent data states may be harder to reproduce and diagnose.\n"
   ]
  },
  {
   "cell_type": "markdown",
   "id": "eb0e6ce4",
   "metadata": {},
   "source": [
    "### Q6. Explain deadlocks and race conditions.\n",
    "### Ans\n",
    "#### Deadlock: Deadlock refers to a situation where two or more threads or processes are unable to proceed because each is waiting for the other to release a resource. In other words, it is a state where multiple threads are stuck, unable to make progress, as they are all waiting for resources that are held by other threads in the deadlock.Deadlocks typically occur when there is a circular dependency between two or more threads or processes, each holding a resource that is needed by another thread to proceed. Deadlocks can lead to a system or program becoming unresponsive and require intervention to resolve.\n",
    "#### Race Condition: A race condition occurs when the behavior of a program depends on the relative timing or interleaving of multiple threads accessing shared resources or data. It arises when the outcome of the program is dependent on the sequence or timing of operations, which can vary due to the unpredictable nature of thread scheduling.Race conditions often result in incorrect or inconsistent program behavior, as different threads may access or modify shared data simultaneously, leading to unexpected or undesired outcomes. Race conditions need to be handled through proper synchronization mechanisms, such as locks or mutexes, to ensure data integrity and avoid unpredictable behavior."
   ]
  },
  {
   "cell_type": "code",
   "execution_count": null,
   "id": "363ec914",
   "metadata": {},
   "outputs": [],
   "source": []
  }
 ],
 "metadata": {
  "kernelspec": {
   "display_name": "Python 3 (ipykernel)",
   "language": "python",
   "name": "python3"
  },
  "language_info": {
   "codemirror_mode": {
    "name": "ipython",
    "version": 3
   },
   "file_extension": ".py",
   "mimetype": "text/x-python",
   "name": "python",
   "nbconvert_exporter": "python",
   "pygments_lexer": "ipython3",
   "version": "3.10.9"
  }
 },
 "nbformat": 4,
 "nbformat_minor": 5
}
