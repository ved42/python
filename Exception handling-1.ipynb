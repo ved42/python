{
 "cells": [
  {
   "cell_type": "markdown",
   "id": "1dd293f0",
   "metadata": {},
   "source": [
    "### Q1. What is an Exception in python? Write the difference between Exceptions and syntax errors."
   ]
  },
  {
   "cell_type": "markdown",
   "id": "198b3b2f",
   "metadata": {},
   "source": [
    "### ans\n",
    "### In Python, an exception is an event that occurs during the execution of a program, which disrupts the normal flow of the program's instructions. When an exceptional situation arises, Python raises an exception, which can be caught and handled by the program.\n",
    "### An exception in Python is an error that happens while a program is running. It interrupts the normal flow of the program. Examples include dividing a number by zero or trying to open a file that doesn't exist.\n",
    "### Syntax errors, on the other hand, occur before the program runs. They happen when the code violates the rules of the Python language. These errors must be fixed before the program can run.\n",
    "### In summary, exceptions are errors that happen during program execution, while syntax errors are errors in the code itself that need to be fixed before the program can run."
   ]
  },
  {
   "cell_type": "markdown",
   "id": "7299eeed",
   "metadata": {},
   "source": [
    "### Q2. What happens when an exception is not handled? Explain with an example"
   ]
  },
  {
   "cell_type": "markdown",
   "id": "fa5f131e",
   "metadata": {},
   "source": [
    "### Ans\n",
    "### When an exception is not handled, it leads to the termination of the program and an error message is displayed, indicating the type of exception that occurred. This behavior is known as an \"unhandled exception.\"\n",
    "### for eg."
   ]
  },
  {
   "cell_type": "code",
   "execution_count": 1,
   "id": "cfcbd328",
   "metadata": {},
   "outputs": [
    {
     "name": "stdout",
     "output_type": "stream",
     "text": [
      "5\n"
     ]
    },
    {
     "ename": "ZeroDivisionError",
     "evalue": "division by zero",
     "output_type": "error",
     "traceback": [
      "\u001b[1;31m---------------------------------------------------------------------------\u001b[0m",
      "\u001b[1;31mZeroDivisionError\u001b[0m                         Traceback (most recent call last)",
      "Cell \u001b[1;32mIn[1], line 2\u001b[0m\n\u001b[0;32m      1\u001b[0m \u001b[38;5;28mprint\u001b[39m(\u001b[38;5;241m2\u001b[39m\u001b[38;5;241m+\u001b[39m\u001b[38;5;241m3\u001b[39m)\n\u001b[1;32m----> 2\u001b[0m \u001b[38;5;28mprint\u001b[39m(\u001b[38;5;241;43m10\u001b[39;49m\u001b[38;5;241;43m/\u001b[39;49m\u001b[38;5;241;43m0\u001b[39;49m)\n\u001b[0;32m      3\u001b[0m \u001b[38;5;28mprint\u001b[39m(\u001b[38;5;124m'\u001b[39m\u001b[38;5;124mhello\u001b[39m\u001b[38;5;124m'\u001b[39m)\n",
      "\u001b[1;31mZeroDivisionError\u001b[0m: division by zero"
     ]
    }
   ],
   "source": [
    "print(2+3)\n",
    "print(10/0)\n",
    "print('hello')"
   ]
  },
  {
   "cell_type": "markdown",
   "id": "c9739315",
   "metadata": {},
   "source": [
    "### Python runs a programm sequentially so, after a error is occures next valid programms cannot be run.so that's why it is important to handle the exception"
   ]
  },
  {
   "cell_type": "markdown",
   "id": "1d4438a7",
   "metadata": {},
   "source": [
    "###  Q3. Which Python statements are used to catch and handle exceptions? Explain with an example"
   ]
  },
  {
   "cell_type": "markdown",
   "id": "cdf61665",
   "metadata": {},
   "source": [
    "### Ans\n",
    "### In Python, the try and except statements are used to catch and handle exceptions. The try block contains the code that might raise an exception, and the except block specifies how to handle the exception if it occurs.\n",
    "### For eg.,"
   ]
  },
  {
   "cell_type": "code",
   "execution_count": 2,
   "id": "61d27224",
   "metadata": {},
   "outputs": [
    {
     "name": "stdout",
     "output_type": "stream",
     "text": [
      "error: division by zero\n",
      "hello\n"
     ]
    }
   ],
   "source": [
    "try:\n",
    "    a=10/0\n",
    "except Exception as e:\n",
    "    print(\"error:\",e)\n",
    "    \n",
    "print('hello')"
   ]
  },
  {
   "cell_type": "markdown",
   "id": "c2d7e13c",
   "metadata": {},
   "source": [
    "### Q4. Explain with an example:\n",
    "### try and else\n",
    "### finally\n",
    "### raise"
   ]
  },
  {
   "cell_type": "code",
   "execution_count": 3,
   "id": "58c4381d",
   "metadata": {},
   "outputs": [
    {
     "name": "stdout",
     "output_type": "stream",
     "text": [
      "hello\n",
      "this block will execute after the try block executed sucessfully\n"
     ]
    }
   ],
   "source": [
    "## 1.try and else:\n",
    "# else block will exceute if and only if try block eecuted sucessfully\n",
    "\n",
    "try:\n",
    "    print(\"hello\")\n",
    "except Exception as e:\n",
    "    print('e')\n",
    "else:\n",
    "    print(\"this block will execute after the try block executed sucessfully\")"
   ]
  },
  {
   "cell_type": "code",
   "execution_count": 4,
   "id": "0cd4c8fc",
   "metadata": {},
   "outputs": [
    {
     "name": "stdout",
     "output_type": "stream",
     "text": [
      "error : division by zero\n",
      "finally block executed everytime\n"
     ]
    }
   ],
   "source": [
    "# 2. finally\n",
    "# finally block executed everytime\n",
    "\n",
    "try:\n",
    "    a=10/0\n",
    "except Exception as e:\n",
    "    print(\"error :\",e)\n",
    "finally:\n",
    "    print(\"finally block executed everytime\")"
   ]
  },
  {
   "cell_type": "code",
   "execution_count": 5,
   "id": "085f2492",
   "metadata": {},
   "outputs": [],
   "source": [
    "# raise\n",
    "# it is used for custom exception\n",
    "\n",
    "class validateage(Exception):\n",
    "    \n",
    "    def __init__(self,msg):\n",
    "        self.msg=msg"
   ]
  },
  {
   "cell_type": "code",
   "execution_count": 6,
   "id": "da03c3ad",
   "metadata": {},
   "outputs": [],
   "source": [
    "def validage(age):\n",
    "    if age < 0:\n",
    "        raise validateage(\"entered age is negative\")\n",
    "    elif age>200:\n",
    "        raise validateage(\"entered age is too high\")\n",
    "    else:\n",
    "        print(\"valid age\")"
   ]
  },
  {
   "cell_type": "code",
   "execution_count": 7,
   "id": "a32221cf",
   "metadata": {},
   "outputs": [
    {
     "name": "stdout",
     "output_type": "stream",
     "text": [
      "enter the age34\n",
      "valid age\n"
     ]
    }
   ],
   "source": [
    "try:\n",
    "    age=int(input(\"enter the age\"))\n",
    "    validage(age)\n",
    "    \n",
    "except validateage as e:\n",
    "    print(e)"
   ]
  },
  {
   "cell_type": "markdown",
   "id": "2f438d41",
   "metadata": {},
   "source": [
    "### Q5. What are Custom Exceptions in python? Why do we need Custom Exceptions? Explain with an example"
   ]
  },
  {
   "cell_type": "markdown",
   "id": "3f3eb14b",
   "metadata": {},
   "source": [
    "### ans\n",
    "### Custom exceptions in Python are exceptions created by programmers to represent specific errors or exceptional situations in their programs. They are needed to handle specific error cases effectively, improve code readability, and make the code more modular and extensible. Custom exceptions provide meaningful error messages and specialized handling."
   ]
  },
  {
   "cell_type": "code",
   "execution_count": 16,
   "id": "71ad9009",
   "metadata": {},
   "outputs": [
    {
     "name": "stdout",
     "output_type": "stream",
     "text": [
      "(1000, 100)\n",
      "Please deposit more funds.\n"
     ]
    }
   ],
   "source": [
    "# for eg.,\n",
    "class InsufficientBalanceError(Exception):\n",
    "    def __init__(self, amount, balance):\n",
    "        \n",
    "        self.amount = amount\n",
    "        self.balance = balance\n",
    "\n",
    "def withdraw(amount, balance):\n",
    "    if amount > balance:\n",
    "        raise InsufficientBalanceError(amount, balance)\n",
    "        \n",
    "    else:\n",
    "        print(\"Withdrawal successful.\")\n",
    "\n",
    "# Example usage\n",
    "balance = 100\n",
    "withdraw_amount = 1000\n",
    "\n",
    "try:\n",
    "    withdraw(withdraw_amount, balance)\n",
    "except InsufficientBalanceError as e:\n",
    "    print(e)\n",
    "    print(\"Please deposit more funds.\")\n"
   ]
  },
  {
   "cell_type": "markdown",
   "id": "a73eaca8",
   "metadata": {},
   "source": [
    "### Q6. Create a custom exception class. Use this ,class to handle an exception."
   ]
  },
  {
   "cell_type": "code",
   "execution_count": 17,
   "id": "e5b73d8c",
   "metadata": {},
   "outputs": [],
   "source": [
    "class validage(Exception):\n",
    "    def __init__(self,msg):\n",
    "        self.msg=msg\n"
   ]
  },
  {
   "cell_type": "code",
   "execution_count": 18,
   "id": "abbe3e02",
   "metadata": {},
   "outputs": [],
   "source": [
    "def validateage(age):\n",
    "    if age<0:\n",
    "        raise validage(\"negeative age\")\n",
    "    elif age>200:\n",
    "        raise validage(\"too high\")\n",
    "    else:\n",
    "        print(\"normal\")"
   ]
  },
  {
   "cell_type": "code",
   "execution_count": 21,
   "id": "92e65d15",
   "metadata": {},
   "outputs": [
    {
     "name": "stdout",
     "output_type": "stream",
     "text": [
      "890\n",
      "error: too high\n"
     ]
    }
   ],
   "source": [
    "try:\n",
    "    age=int(input())\n",
    "    validateage(age)\n",
    "except Exception as e:\n",
    "    print('error:',e)"
   ]
  },
  {
   "cell_type": "code",
   "execution_count": null,
   "id": "56ef586f",
   "metadata": {},
   "outputs": [],
   "source": []
  }
 ],
 "metadata": {
  "kernelspec": {
   "display_name": "Python 3 (ipykernel)",
   "language": "python",
   "name": "python3"
  },
  "language_info": {
   "codemirror_mode": {
    "name": "ipython",
    "version": 3
   },
   "file_extension": ".py",
   "mimetype": "text/x-python",
   "name": "python",
   "nbconvert_exporter": "python",
   "pygments_lexer": "ipython3",
   "version": "3.10.9"
  }
 },
 "nbformat": 4,
 "nbformat_minor": 5
}
