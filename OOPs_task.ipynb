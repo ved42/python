{
 "cells": [
  {
   "cell_type": "markdown",
   "id": "a73fdf87",
   "metadata": {},
   "source": [
    "### Q1, Create a vehicle class with an init method having instance variables as name_of_vehicle, max_speed and average_of_vehicle. \n",
    "### Ans-"
   ]
  },
  {
   "cell_type": "code",
   "execution_count": 4,
   "id": "bc356b64",
   "metadata": {},
   "outputs": [],
   "source": [
    "class vehicle:\n",
    "    def __init__(self,name_of_vehicle, max_speed,average_of_vehicle):\n",
    "        self.name_of_vehicle=name_of_vehicle\n",
    "        self.max_speed=max_speed\n",
    "        self.average_of_vehicle=average_of_vehicle\n",
    "    "
   ]
  },
  {
   "cell_type": "code",
   "execution_count": 13,
   "id": "26599ddf",
   "metadata": {},
   "outputs": [],
   "source": [
    "obj=vehicle(\"activa\",120,60)"
   ]
  },
  {
   "cell_type": "markdown",
   "id": "1e3777c2",
   "metadata": {},
   "source": [
    "### Q2.  Create a child class car from the vehicle class created in Que 1, which will inherit the vehicle class. Create a method named seating_capacity which takes capacity as an argument and returns the name of the vehicle and its seating capacity."
   ]
  },
  {
   "cell_type": "code",
   "execution_count": 11,
   "id": "770cf6ce",
   "metadata": {},
   "outputs": [],
   "source": [
    "class vehicle:\n",
    "    def __init__(self,name_of_vehicle, max_speed,average_of_vehicle):\n",
    "        self.name_of_vehicle=name_of_vehicle\n",
    "        self.max_speed=max_speed\n",
    "        self.average_of_vehicle=average_of_vehicle\n",
    "class car(vehicle):\n",
    "    def seating_capacity(self,capacity):\n",
    "        return self.name_of_vehicle, capacity"
   ]
  },
  {
   "cell_type": "code",
   "execution_count": 14,
   "id": "18b13f62",
   "metadata": {},
   "outputs": [],
   "source": [
    "car_obj=car(\"activa\",120,60)"
   ]
  },
  {
   "cell_type": "code",
   "execution_count": 15,
   "id": "97483284",
   "metadata": {},
   "outputs": [
    {
     "data": {
      "text/plain": [
       "('activa', 2)"
      ]
     },
     "execution_count": 15,
     "metadata": {},
     "output_type": "execute_result"
    }
   ],
   "source": [
    "car_obj.seating_capacity(2)"
   ]
  },
  {
   "cell_type": "markdown",
   "id": "d5af5647",
   "metadata": {},
   "source": [
    "### Q3. What is multiple inheritance? Write a python code to demonstrate multiple inheritance."
   ]
  },
  {
   "cell_type": "markdown",
   "id": "78be31c2",
   "metadata": {},
   "source": [
    "### Ans-\n",
    "###  Multiple inheritance involves deriving a new class from multiple base classes. The derived class inherits attributes and methods from all the base classes. It allows for combining features from multiple classes but can introduce complexity if not used carefully."
   ]
  },
  {
   "cell_type": "code",
   "execution_count": 16,
   "id": "ffd4de23",
   "metadata": {},
   "outputs": [],
   "source": [
    "# Code for multiple Inheritance\n",
    "class university:\n",
    "    def university_id(self):\n",
    "        print(\"this method represent university number\")\n",
    "class college:\n",
    "    def clg_id(self):\n",
    "        print(\"represent clg id\")\n",
    "\n",
    "class school(university,college):\n",
    "    pass"
   ]
  },
  {
   "cell_type": "code",
   "execution_count": 17,
   "id": "2907d48b",
   "metadata": {},
   "outputs": [],
   "source": [
    "skl=school()"
   ]
  },
  {
   "cell_type": "code",
   "execution_count": 18,
   "id": "7b1a49ce",
   "metadata": {},
   "outputs": [
    {
     "name": "stdout",
     "output_type": "stream",
     "text": [
      "represent clg id\n"
     ]
    }
   ],
   "source": [
    "skl.clg_id()"
   ]
  },
  {
   "cell_type": "code",
   "execution_count": 19,
   "id": "4bfa1fc8",
   "metadata": {},
   "outputs": [
    {
     "name": "stdout",
     "output_type": "stream",
     "text": [
      "this method represent university number\n"
     ]
    }
   ],
   "source": [
    "skl.university_id()"
   ]
  },
  {
   "cell_type": "markdown",
   "id": "bee91706",
   "metadata": {},
   "source": [
    "###  Q5.What is method overriding in python? Write a python code to demonstrate method overriding.\n",
    "### ans-\n",
    "### A getter is a method that allows you to retrieve the value of an attribute. It provides access to the value without directly accessing the attribute itself. This can be useful when you want to perform additional operations or validations before returning the value.\n",
    "\n",
    "### A setter, on the other hand, is a method that allows you to modify the value of an attribute. Instead of directly assigning a new value to the attribute, you use the setter method, which can include additional logic or checks before assigning the new value."
   ]
  },
  {
   "cell_type": "code",
   "execution_count": 26,
   "id": "4097dbd7",
   "metadata": {},
   "outputs": [],
   "source": [
    "class car :\n",
    "    def __init__(self , year , make , model, speed ) : \n",
    "        \n",
    "        self.__year = year \n",
    "        self.__make = make\n",
    "        self.__model = model\n",
    "        self.__speed = 0\n",
    "        \n",
    "    def set_speed(self,speed) : \n",
    "        self.__speed = 0 if speed < 0 else speed\n",
    "        \n",
    "    def get_speed(self)  : \n",
    "        return self.__speed"
   ]
  },
  {
   "cell_type": "code",
   "execution_count": 27,
   "id": "194e771a",
   "metadata": {},
   "outputs": [],
   "source": [
    "car_obj=car(2023,\"toyota\",'Innova',120)"
   ]
  },
  {
   "cell_type": "code",
   "execution_count": 28,
   "id": "23563458",
   "metadata": {},
   "outputs": [],
   "source": [
    "car_obj.set_speed(150)"
   ]
  },
  {
   "cell_type": "code",
   "execution_count": 29,
   "id": "eb9fb58a",
   "metadata": {},
   "outputs": [
    {
     "data": {
      "text/plain": [
       "150"
      ]
     },
     "execution_count": 29,
     "metadata": {},
     "output_type": "execute_result"
    }
   ],
   "source": [
    "car_obj.get_speed()"
   ]
  },
  {
   "cell_type": "markdown",
   "id": "f69fe1fe",
   "metadata": {},
   "source": [
    "###  Q5.What is method overriding in python? Write a python code to demonstrate method overriding.\n",
    "### Ans-\n",
    "### Method overriding in Python occurs when a subclass provides its own implementation of a method that is already defined in its superclass. The overriding method in the subclass replaces the implementation of the same-named method in the superclass"
   ]
  },
  {
   "cell_type": "code",
   "execution_count": 31,
   "id": "777c84a1",
   "metadata": {},
   "outputs": [],
   "source": [
    "class university:\n",
    "    def university_id(self):\n",
    "        print(\"this is tell about an id\")\n",
    "    \n",
    "class college(university):\n",
    "    def university_id(self):\n",
    "        print(\"this is override method\")"
   ]
  },
  {
   "cell_type": "code",
   "execution_count": 32,
   "id": "a8ad28ba",
   "metadata": {},
   "outputs": [],
   "source": [
    "university_obj=university()"
   ]
  },
  {
   "cell_type": "code",
   "execution_count": 34,
   "id": "11b8a63a",
   "metadata": {},
   "outputs": [
    {
     "name": "stdout",
     "output_type": "stream",
     "text": [
      "this is tell about an id\n"
     ]
    }
   ],
   "source": [
    "university_obj.university_id()"
   ]
  },
  {
   "cell_type": "code",
   "execution_count": 35,
   "id": "1371d297",
   "metadata": {},
   "outputs": [],
   "source": [
    "clg=college()"
   ]
  },
  {
   "cell_type": "code",
   "execution_count": 36,
   "id": "8c7932e5",
   "metadata": {},
   "outputs": [
    {
     "name": "stdout",
     "output_type": "stream",
     "text": [
      "this is override method\n"
     ]
    }
   ],
   "source": [
    "clg.university_id()"
   ]
  },
  {
   "cell_type": "code",
   "execution_count": null,
   "id": "bc9bb08e",
   "metadata": {},
   "outputs": [],
   "source": []
  }
 ],
 "metadata": {
  "kernelspec": {
   "display_name": "Python 3 (ipykernel)",
   "language": "python",
   "name": "python3"
  },
  "language_info": {
   "codemirror_mode": {
    "name": "ipython",
    "version": 3
   },
   "file_extension": ".py",
   "mimetype": "text/x-python",
   "name": "python",
   "nbconvert_exporter": "python",
   "pygments_lexer": "ipython3",
   "version": "3.10.9"
  }
 },
 "nbformat": 4,
 "nbformat_minor": 5
}
