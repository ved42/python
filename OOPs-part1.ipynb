{
 "cells": [
  {
   "cell_type": "markdown",
   "id": "0ae09f99",
   "metadata": {},
   "source": [
    "### Q1. Explain Class and Object with respect to Object-Oriented Programming. Give a suitable example."
   ]
  },
  {
   "cell_type": "markdown",
   "id": "c7d8476f",
   "metadata": {},
   "source": [
    "### Ans- A class is blueprint that defines the attributes that an object of that class can have.\n",
    "### It provides a structure for creating objects with predefined properties and functionalities\n",
    "## #to create a class we use following syntax\n",
    "\n",
    "# class classname:\n",
    "#     pass\n",
    "\n",
    "\n",
    "### Object is an instances of a class.An object has its own set of values fot the attributes defined in the class and can perform actions defined by the methods of the class\n",
    "### In short,class is like a blueprint ,while an object is an actual instance\n",
    "### To creat an object use following syntax\n",
    "# objectname=classname()"
   ]
  },
  {
   "cell_type": "code",
   "execution_count": 7,
   "id": "33bea333",
   "metadata": {},
   "outputs": [],
   "source": [
    "class classdemo:\n",
    "    def class_obj_demo(self):\n",
    "        \n",
    "        print(\"this is syntax to create class and python\")"
   ]
  },
  {
   "cell_type": "code",
   "execution_count": 8,
   "id": "6fdd757d",
   "metadata": {},
   "outputs": [],
   "source": [
    "obj=classdemo()"
   ]
  },
  {
   "cell_type": "code",
   "execution_count": 10,
   "id": "9987285e",
   "metadata": {},
   "outputs": [
    {
     "name": "stdout",
     "output_type": "stream",
     "text": [
      "this is syntax to create class and python\n"
     ]
    }
   ],
   "source": [
    "obj.class_obj_demo()"
   ]
  },
  {
   "cell_type": "markdown",
   "id": "a989bde7",
   "metadata": {},
   "source": [
    "### Q2. Name the four pillars of OOPs.\n",
    "### Ans-\n",
    "### Name of four pillar of OOPs is given below:\n",
    "### 1.Encapsulation\n",
    "###  2.Inheritance\n",
    "###  3.Polymorphism\n",
    "###  4.Abstaction\n",
    "###  Here are the some information about that\n",
    "### Encapsulation: Think of encapsulation as putting things in a container or a capsule. It involves bundling related data (variables) and the operations (methods) that manipulate that data into a single unit called an object. Encapsulation helps in organizing code and protecting data by setting access levels, so only specific parts of the code can interact with the object's data.\n",
    "\n",
    "### Inheritance: Inheritance is like passing down traits from one generation to another. It allows you to create new classes based on existing classes, inheriting their properties and behaviors. The existing class is called the \"parent\" or \"base\" class, and the new class is called the \"child\" or \"derived\" class. Inheritance helps in reusing code, promoting code extensibility, and establishing relationships between classes.\n",
    "\n",
    "### Polymorphism: Polymorphism can be thought of as having many forms. It allows objects of different classes to be treated as objects of a common parent class. This means that you can use a single interface to represent different types of objects. Polymorphism enables flexibility and code modularity by providing a way to write code that can work with objects of multiple types, simplifying the handling of different scenarios.\n",
    "\n",
    "### Abstraction: Abstraction is about focusing on the essential details while hiding unnecessary complexities. It involves creating abstract classes or interfaces that define the common properties and behaviors for a group of objects. Abstract classes cannot be instantiated directly, but they provide a blueprint for creating specific classes. Abstraction helps in managing complexity, promoting code reusability, and providing a clear separation between the interface and implementation details"
   ]
  },
  {
   "cell_type": "markdown",
   "id": "18800d08",
   "metadata": {},
   "source": [
    "### Q3. Explain why the __init__() function is used. Give a suitable example.\n",
    "### Ans- The _init() function is a special method in Python that is used as a constructor for initializing objects of a class. It is automatically called when a new object of the class is created. The primary purpose of the __init_() method is to set up the initial state (attributes) of the object\n",
    "### Basically  __init__() get the inputs from the user at the time of the object creation we have to pass arguments as equal as __init__() method has .\n",
    "### for eg.,"
   ]
  },
  {
   "cell_type": "code",
   "execution_count": 14,
   "id": "9945558d",
   "metadata": {},
   "outputs": [],
   "source": [
    "class car:\n",
    "    def __init__(self,car_name,car_year,car_model):\n",
    "        self.car_name=car_name\n",
    "        self.car_year=car_year\n",
    "        self.car_model=car_model\n",
    "    def return_car_details(self):\n",
    "        return self.car_name,self.car_year,self.car_model"
   ]
  },
  {
   "cell_type": "code",
   "execution_count": 15,
   "id": "761dc815",
   "metadata": {},
   "outputs": [],
   "source": [
    "car_obj=car(\"Innova\",2023,'toyota')"
   ]
  },
  {
   "cell_type": "code",
   "execution_count": 16,
   "id": "c2197af9",
   "metadata": {},
   "outputs": [
    {
     "data": {
      "text/plain": [
       "('Innova', 2023, 'toyota')"
      ]
     },
     "execution_count": 16,
     "metadata": {},
     "output_type": "execute_result"
    }
   ],
   "source": [
    "car_obj.return_car_details()"
   ]
  },
  {
   "cell_type": "markdown",
   "id": "0fb1c304",
   "metadata": {},
   "source": [
    "### Q4. Why self is used in OOPs?"
   ]
  },
  {
   "cell_type": "markdown",
   "id": "a78f7a8a",
   "metadata": {},
   "source": [
    "### Ans-\n",
    "### In object-oriented programming (OOP), the self keyword is used to refer to the instance (object) of a class within the class's methods. It is a convention in Python (and some other languages) to use self as the first parameter in instance methods.\n",
    "\n",
    "### The self parameter allows methods to access and manipulate the attributes (data) and call other methods of the object. It acts as a reference to the current instance of the class, allowing us to distinguish between instance variables and local variables within a method."
   ]
  },
  {
   "cell_type": "markdown",
   "id": "16ba052a",
   "metadata": {},
   "source": [
    "### Q5. What is inheritance? Give an example for each type of inheritance."
   ]
  },
  {
   "cell_type": "markdown",
   "id": "c606b9d3",
   "metadata": {},
   "source": [
    "### Ans-\n",
    "### Inheritance: Inheritance is like passing down traits from one generation to another. It allows you to create new classes based on existing classes, inheriting their properties and behaviors. The existing class is called the \"parent\" or \"base\" class, and the new class is called the \"child\" or \"derived\" class. Inheritance helps in reusing code, promoting code extensibility, and establishing relationships between classes.\n",
    "### Types of Inheritance\n",
    "### a. Single Inheritance\n",
    "### b. Multiple Inheritance\n",
    "### c.Multilevel Inheritance\n",
    "### d. Hierarchical Inheritance\n",
    "\n",
    "### a.Single Inheritance\n",
    "### ingle inheritance involves deriving a new class from a single base class. The derived class inherits the attributes and methods of the base class. It allows for code reuse and promotes the concept of \"is-a\" relationship\n",
    "\n",
    "### b. Multiple Inheritance\n",
    "### Multiple inheritance involves deriving a new class from multiple base classes. The derived class inherits attributes and methods from all the base classes. It allows for combining features from multiple classes but can introduce complexity if not used carefully.\n",
    "\n",
    "### c.Multilevel Inheritance:\n",
    "### Multilevel inheritance involves deriving a new class from a base class, and then deriving another class from the previously derived class. It allows for creating a hierarchy of classes.\n",
    "\n",
    "### d.Hierarchical Inheritance:\n",
    "### Hierarchical inheritance involves deriving multiple classes from a single base class. It allows for creating a hierarchy of classes with different functionalities"
   ]
  },
  {
   "cell_type": "code",
   "execution_count": 17,
   "id": "e8c77f15",
   "metadata": {},
   "outputs": [],
   "source": [
    "# eg. single Inheritance\n",
    "class university:\n",
    "    def university_id(self):\n",
    "        print(\"this method represent university number\")\n",
    "class college(university):\n",
    "    def clg_id(self):\n",
    "        print(\"represent clg id\")"
   ]
  },
  {
   "cell_type": "code",
   "execution_count": 18,
   "id": "18243466",
   "metadata": {},
   "outputs": [],
   "source": [
    "clg=college()"
   ]
  },
  {
   "cell_type": "code",
   "execution_count": 19,
   "id": "c842382a",
   "metadata": {},
   "outputs": [
    {
     "name": "stdout",
     "output_type": "stream",
     "text": [
      "represent clg id\n"
     ]
    }
   ],
   "source": [
    "clg.clg_id()"
   ]
  },
  {
   "cell_type": "code",
   "execution_count": 20,
   "id": "d5e09b1d",
   "metadata": {},
   "outputs": [
    {
     "name": "stdout",
     "output_type": "stream",
     "text": [
      "this method represent university number\n"
     ]
    }
   ],
   "source": [
    "clg.university_id()"
   ]
  },
  {
   "cell_type": "code",
   "execution_count": 21,
   "id": "f384b6de",
   "metadata": {},
   "outputs": [],
   "source": [
    "# Multiple Inheritance\n",
    "class university:\n",
    "    def university_id(self):\n",
    "        print(\"this method represent university number\")\n",
    "class college:\n",
    "    def clg_id(self):\n",
    "        print(\"represent clg id\")\n",
    "\n",
    "class school(university,college):\n",
    "    pass"
   ]
  },
  {
   "cell_type": "code",
   "execution_count": 22,
   "id": "0f49ef21",
   "metadata": {},
   "outputs": [],
   "source": [
    "skl=school()"
   ]
  },
  {
   "cell_type": "code",
   "execution_count": 23,
   "id": "f3301e51",
   "metadata": {},
   "outputs": [
    {
     "name": "stdout",
     "output_type": "stream",
     "text": [
      "represent clg id\n"
     ]
    }
   ],
   "source": [
    "skl.clg_id()"
   ]
  },
  {
   "cell_type": "code",
   "execution_count": 24,
   "id": "8fbf6262",
   "metadata": {},
   "outputs": [
    {
     "name": "stdout",
     "output_type": "stream",
     "text": [
      "this method represent university number\n"
     ]
    }
   ],
   "source": [
    "skl.university_id()"
   ]
  },
  {
   "cell_type": "code",
   "execution_count": 25,
   "id": "446e04e1",
   "metadata": {},
   "outputs": [],
   "source": [
    "# Multilevel Inheritance\n",
    "class university:\n",
    "    def university_id(self):\n",
    "        print(\"this method represent university number\")\n",
    "class college(university):\n",
    "    def clg_id(self):\n",
    "        print(\"represent clg id\")\n",
    "class school(college):\n",
    "    def school_id(self):\n",
    "        print(\"represent the school id\")"
   ]
  },
  {
   "cell_type": "code",
   "execution_count": 26,
   "id": "8120d72f",
   "metadata": {},
   "outputs": [],
   "source": [
    "skool=school()"
   ]
  },
  {
   "cell_type": "code",
   "execution_count": 27,
   "id": "1a98ef74",
   "metadata": {},
   "outputs": [
    {
     "name": "stdout",
     "output_type": "stream",
     "text": [
      "represent clg id\n"
     ]
    }
   ],
   "source": [
    "skool.clg_id()"
   ]
  },
  {
   "cell_type": "code",
   "execution_count": 28,
   "id": "bc5cb49a",
   "metadata": {},
   "outputs": [
    {
     "name": "stdout",
     "output_type": "stream",
     "text": [
      "this method represent university number\n"
     ]
    }
   ],
   "source": [
    "skool.university_id()"
   ]
  },
  {
   "cell_type": "code",
   "execution_count": 29,
   "id": "4f28fff5",
   "metadata": {},
   "outputs": [
    {
     "name": "stdout",
     "output_type": "stream",
     "text": [
      "represent the school id\n"
     ]
    }
   ],
   "source": [
    "skool.school_id()"
   ]
  },
  {
   "cell_type": "code",
   "execution_count": 30,
   "id": "2a66a2a3",
   "metadata": {},
   "outputs": [],
   "source": [
    "# Hierarchical Inheritance\n",
    "class university:\n",
    "    def university_id(self):\n",
    "        print(\"this method represent university number\")\n",
    "class college(university):\n",
    "    def clg_id(self):\n",
    "        print(\"represent clg id\")\n",
    "\n",
    "class school(university):\n",
    "    def school_id(self):\n",
    "        print(\"represent the school id\")\n",
    "    "
   ]
  },
  {
   "cell_type": "code",
   "execution_count": 35,
   "id": "f983f851",
   "metadata": {},
   "outputs": [],
   "source": [
    "skl1=school()"
   ]
  },
  {
   "cell_type": "code",
   "execution_count": 36,
   "id": "a198f303",
   "metadata": {},
   "outputs": [
    {
     "name": "stdout",
     "output_type": "stream",
     "text": [
      "represent the school id\n"
     ]
    }
   ],
   "source": [
    "skl1.school_id()"
   ]
  },
  {
   "cell_type": "code",
   "execution_count": 37,
   "id": "cb099358",
   "metadata": {},
   "outputs": [
    {
     "name": "stdout",
     "output_type": "stream",
     "text": [
      "this method represent university number\n"
     ]
    }
   ],
   "source": [
    "skl1.university_id()"
   ]
  },
  {
   "cell_type": "code",
   "execution_count": 38,
   "id": "4f180921",
   "metadata": {},
   "outputs": [],
   "source": [
    "clg1=college()"
   ]
  },
  {
   "cell_type": "code",
   "execution_count": 39,
   "id": "dd45c4b8",
   "metadata": {},
   "outputs": [
    {
     "name": "stdout",
     "output_type": "stream",
     "text": [
      "this method represent university number\n"
     ]
    }
   ],
   "source": [
    "clg1.university_id()"
   ]
  },
  {
   "cell_type": "code",
   "execution_count": 40,
   "id": "1435d3fd",
   "metadata": {},
   "outputs": [
    {
     "ename": "AttributeError",
     "evalue": "'college' object has no attribute 'school_id'",
     "output_type": "error",
     "traceback": [
      "\u001b[1;31m---------------------------------------------------------------------------\u001b[0m",
      "\u001b[1;31mAttributeError\u001b[0m                            Traceback (most recent call last)",
      "Cell \u001b[1;32mIn[40], line 1\u001b[0m\n\u001b[1;32m----> 1\u001b[0m \u001b[43mclg1\u001b[49m\u001b[38;5;241;43m.\u001b[39;49m\u001b[43mschool_id\u001b[49m()\n",
      "\u001b[1;31mAttributeError\u001b[0m: 'college' object has no attribute 'school_id'"
     ]
    }
   ],
   "source": [
    "# It cant acess the methods of school \n",
    "clg1.school_id()"
   ]
  },
  {
   "cell_type": "code",
   "execution_count": null,
   "id": "72d8f39b",
   "metadata": {},
   "outputs": [],
   "source": []
  }
 ],
 "metadata": {
  "kernelspec": {
   "display_name": "Python 3 (ipykernel)",
   "language": "python",
   "name": "python3"
  },
  "language_info": {
   "codemirror_mode": {
    "name": "ipython",
    "version": 3
   },
   "file_extension": ".py",
   "mimetype": "text/x-python",
   "name": "python",
   "nbconvert_exporter": "python",
   "pygments_lexer": "ipython3",
   "version": "3.10.9"
  }
 },
 "nbformat": 4,
 "nbformat_minor": 5
}
